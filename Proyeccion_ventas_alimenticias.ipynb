{
  "nbformat": 4,
  "nbformat_minor": 0,
  "metadata": {
    "colab": {
      "provenance": [],
      "mount_file_id": "189KPoX25Vx7PCt-e2kEwQrWal8f-3xkH",
      "authorship_tag": "ABX9TyOtt6YMYmEDJMr35SKJ32TR",
      "include_colab_link": true
    },
    "kernelspec": {
      "name": "python3",
      "display_name": "Python 3"
    },
    "language_info": {
      "name": "python"
    }
  },
  "cells": [
    {
      "cell_type": "markdown",
      "metadata": {
        "id": "view-in-github",
        "colab_type": "text"
      },
      "source": [
        "<a href=\"https://colab.research.google.com/github/carlosegn/proyecciones-ventas-alimenticias/blob/main/Proyeccion_ventas_alimenticias.ipynb\" target=\"_parent\"><img src=\"https://colab.research.google.com/assets/colab-badge.svg\" alt=\"Open In Colab\"/></a>"
      ]
    },
    {
      "cell_type": "markdown",
      "source": [
        "# **CODING DOJO: Proyecto de proyección de ventas alimenticias**\n",
        "## Creado por: Carlos Guerrero\n",
        "\n",
        "* Fecha creado: 16/02/2023\n",
        "* Fecha actualización: 04/03/2023\n",
        "* Descripción: Proyección de ventas para productos alimenticios vendidos en diversas tiendas."
      ],
      "metadata": {
        "id": "ZaZVewMcSSry"
      }
    },
    {
      "cell_type": "code",
      "source": [
        "from google.colab import drive\n",
        "drive.mount('/content/drive')"
      ],
      "metadata": {
        "colab": {
          "base_uri": "https://localhost:8080/"
        },
        "id": "U0c-tAmETSFx",
        "outputId": "0de477fb-9e60-48db-eb15-4b98d826662f"
      },
      "execution_count": 1,
      "outputs": [
        {
          "output_type": "stream",
          "name": "stdout",
          "text": [
            "Drive already mounted at /content/drive; to attempt to forcibly remount, call drive.mount(\"/content/drive\", force_remount=True).\n"
          ]
        }
      ]
    },
    {
      "cell_type": "code",
      "execution_count": 2,
      "metadata": {
        "colab": {
          "base_uri": "https://localhost:8080/",
          "height": 206
        },
        "id": "dq5_JykUSODM",
        "outputId": "a7a9c25b-8a76-4d43-8356-91f65b9b1860"
      },
      "outputs": [
        {
          "output_type": "execute_result",
          "data": {
            "text/plain": [
              "  Item_Identifier  Item_Weight Item_Fat_Content  Item_Visibility  \\\n",
              "0           FDA15         9.30          Low Fat         0.016047   \n",
              "1           DRC01         5.92          Regular         0.019278   \n",
              "2           FDN15        17.50          Low Fat         0.016760   \n",
              "3           FDX07        19.20          Regular         0.000000   \n",
              "4           NCD19         8.93          Low Fat         0.000000   \n",
              "\n",
              "               Item_Type  Item_MRP Outlet_Identifier  \\\n",
              "0                  Dairy  249.8092            OUT049   \n",
              "1            Soft Drinks   48.2692            OUT018   \n",
              "2                   Meat  141.6180            OUT049   \n",
              "3  Fruits and Vegetables  182.0950            OUT010   \n",
              "4              Household   53.8614            OUT013   \n",
              "\n",
              "   Outlet_Establishment_Year Outlet_Size Outlet_Location_Type  \\\n",
              "0                       1999      Medium               Tier 1   \n",
              "1                       2009      Medium               Tier 3   \n",
              "2                       1999      Medium               Tier 1   \n",
              "3                       1998         NaN               Tier 3   \n",
              "4                       1987        High               Tier 3   \n",
              "\n",
              "         Outlet_Type  Item_Outlet_Sales  \n",
              "0  Supermarket Type1          3735.1380  \n",
              "1  Supermarket Type2           443.4228  \n",
              "2  Supermarket Type1          2097.2700  \n",
              "3      Grocery Store           732.3800  \n",
              "4  Supermarket Type1           994.7052  "
            ],
            "text/html": [
              "\n",
              "  <div id=\"df-e4792ca4-47f8-43fa-a79e-c3aad39f181c\">\n",
              "    <div class=\"colab-df-container\">\n",
              "      <div>\n",
              "<style scoped>\n",
              "    .dataframe tbody tr th:only-of-type {\n",
              "        vertical-align: middle;\n",
              "    }\n",
              "\n",
              "    .dataframe tbody tr th {\n",
              "        vertical-align: top;\n",
              "    }\n",
              "\n",
              "    .dataframe thead th {\n",
              "        text-align: right;\n",
              "    }\n",
              "</style>\n",
              "<table border=\"1\" class=\"dataframe\">\n",
              "  <thead>\n",
              "    <tr style=\"text-align: right;\">\n",
              "      <th></th>\n",
              "      <th>Item_Identifier</th>\n",
              "      <th>Item_Weight</th>\n",
              "      <th>Item_Fat_Content</th>\n",
              "      <th>Item_Visibility</th>\n",
              "      <th>Item_Type</th>\n",
              "      <th>Item_MRP</th>\n",
              "      <th>Outlet_Identifier</th>\n",
              "      <th>Outlet_Establishment_Year</th>\n",
              "      <th>Outlet_Size</th>\n",
              "      <th>Outlet_Location_Type</th>\n",
              "      <th>Outlet_Type</th>\n",
              "      <th>Item_Outlet_Sales</th>\n",
              "    </tr>\n",
              "  </thead>\n",
              "  <tbody>\n",
              "    <tr>\n",
              "      <th>0</th>\n",
              "      <td>FDA15</td>\n",
              "      <td>9.30</td>\n",
              "      <td>Low Fat</td>\n",
              "      <td>0.016047</td>\n",
              "      <td>Dairy</td>\n",
              "      <td>249.8092</td>\n",
              "      <td>OUT049</td>\n",
              "      <td>1999</td>\n",
              "      <td>Medium</td>\n",
              "      <td>Tier 1</td>\n",
              "      <td>Supermarket Type1</td>\n",
              "      <td>3735.1380</td>\n",
              "    </tr>\n",
              "    <tr>\n",
              "      <th>1</th>\n",
              "      <td>DRC01</td>\n",
              "      <td>5.92</td>\n",
              "      <td>Regular</td>\n",
              "      <td>0.019278</td>\n",
              "      <td>Soft Drinks</td>\n",
              "      <td>48.2692</td>\n",
              "      <td>OUT018</td>\n",
              "      <td>2009</td>\n",
              "      <td>Medium</td>\n",
              "      <td>Tier 3</td>\n",
              "      <td>Supermarket Type2</td>\n",
              "      <td>443.4228</td>\n",
              "    </tr>\n",
              "    <tr>\n",
              "      <th>2</th>\n",
              "      <td>FDN15</td>\n",
              "      <td>17.50</td>\n",
              "      <td>Low Fat</td>\n",
              "      <td>0.016760</td>\n",
              "      <td>Meat</td>\n",
              "      <td>141.6180</td>\n",
              "      <td>OUT049</td>\n",
              "      <td>1999</td>\n",
              "      <td>Medium</td>\n",
              "      <td>Tier 1</td>\n",
              "      <td>Supermarket Type1</td>\n",
              "      <td>2097.2700</td>\n",
              "    </tr>\n",
              "    <tr>\n",
              "      <th>3</th>\n",
              "      <td>FDX07</td>\n",
              "      <td>19.20</td>\n",
              "      <td>Regular</td>\n",
              "      <td>0.000000</td>\n",
              "      <td>Fruits and Vegetables</td>\n",
              "      <td>182.0950</td>\n",
              "      <td>OUT010</td>\n",
              "      <td>1998</td>\n",
              "      <td>NaN</td>\n",
              "      <td>Tier 3</td>\n",
              "      <td>Grocery Store</td>\n",
              "      <td>732.3800</td>\n",
              "    </tr>\n",
              "    <tr>\n",
              "      <th>4</th>\n",
              "      <td>NCD19</td>\n",
              "      <td>8.93</td>\n",
              "      <td>Low Fat</td>\n",
              "      <td>0.000000</td>\n",
              "      <td>Household</td>\n",
              "      <td>53.8614</td>\n",
              "      <td>OUT013</td>\n",
              "      <td>1987</td>\n",
              "      <td>High</td>\n",
              "      <td>Tier 3</td>\n",
              "      <td>Supermarket Type1</td>\n",
              "      <td>994.7052</td>\n",
              "    </tr>\n",
              "  </tbody>\n",
              "</table>\n",
              "</div>\n",
              "      <button class=\"colab-df-convert\" onclick=\"convertToInteractive('df-e4792ca4-47f8-43fa-a79e-c3aad39f181c')\"\n",
              "              title=\"Convert this dataframe to an interactive table.\"\n",
              "              style=\"display:none;\">\n",
              "        \n",
              "  <svg xmlns=\"http://www.w3.org/2000/svg\" height=\"24px\"viewBox=\"0 0 24 24\"\n",
              "       width=\"24px\">\n",
              "    <path d=\"M0 0h24v24H0V0z\" fill=\"none\"/>\n",
              "    <path d=\"M18.56 5.44l.94 2.06.94-2.06 2.06-.94-2.06-.94-.94-2.06-.94 2.06-2.06.94zm-11 1L8.5 8.5l.94-2.06 2.06-.94-2.06-.94L8.5 2.5l-.94 2.06-2.06.94zm10 10l.94 2.06.94-2.06 2.06-.94-2.06-.94-.94-2.06-.94 2.06-2.06.94z\"/><path d=\"M17.41 7.96l-1.37-1.37c-.4-.4-.92-.59-1.43-.59-.52 0-1.04.2-1.43.59L10.3 9.45l-7.72 7.72c-.78.78-.78 2.05 0 2.83L4 21.41c.39.39.9.59 1.41.59.51 0 1.02-.2 1.41-.59l7.78-7.78 2.81-2.81c.8-.78.8-2.07 0-2.86zM5.41 20L4 18.59l7.72-7.72 1.47 1.35L5.41 20z\"/>\n",
              "  </svg>\n",
              "      </button>\n",
              "      \n",
              "  <style>\n",
              "    .colab-df-container {\n",
              "      display:flex;\n",
              "      flex-wrap:wrap;\n",
              "      gap: 12px;\n",
              "    }\n",
              "\n",
              "    .colab-df-convert {\n",
              "      background-color: #E8F0FE;\n",
              "      border: none;\n",
              "      border-radius: 50%;\n",
              "      cursor: pointer;\n",
              "      display: none;\n",
              "      fill: #1967D2;\n",
              "      height: 32px;\n",
              "      padding: 0 0 0 0;\n",
              "      width: 32px;\n",
              "    }\n",
              "\n",
              "    .colab-df-convert:hover {\n",
              "      background-color: #E2EBFA;\n",
              "      box-shadow: 0px 1px 2px rgba(60, 64, 67, 0.3), 0px 1px 3px 1px rgba(60, 64, 67, 0.15);\n",
              "      fill: #174EA6;\n",
              "    }\n",
              "\n",
              "    [theme=dark] .colab-df-convert {\n",
              "      background-color: #3B4455;\n",
              "      fill: #D2E3FC;\n",
              "    }\n",
              "\n",
              "    [theme=dark] .colab-df-convert:hover {\n",
              "      background-color: #434B5C;\n",
              "      box-shadow: 0px 1px 3px 1px rgba(0, 0, 0, 0.15);\n",
              "      filter: drop-shadow(0px 1px 2px rgba(0, 0, 0, 0.3));\n",
              "      fill: #FFFFFF;\n",
              "    }\n",
              "  </style>\n",
              "\n",
              "      <script>\n",
              "        const buttonEl =\n",
              "          document.querySelector('#df-e4792ca4-47f8-43fa-a79e-c3aad39f181c button.colab-df-convert');\n",
              "        buttonEl.style.display =\n",
              "          google.colab.kernel.accessAllowed ? 'block' : 'none';\n",
              "\n",
              "        async function convertToInteractive(key) {\n",
              "          const element = document.querySelector('#df-e4792ca4-47f8-43fa-a79e-c3aad39f181c');\n",
              "          const dataTable =\n",
              "            await google.colab.kernel.invokeFunction('convertToInteractive',\n",
              "                                                     [key], {});\n",
              "          if (!dataTable) return;\n",
              "\n",
              "          const docLinkHtml = 'Like what you see? Visit the ' +\n",
              "            '<a target=\"_blank\" href=https://colab.research.google.com/notebooks/data_table.ipynb>data table notebook</a>'\n",
              "            + ' to learn more about interactive tables.';\n",
              "          element.innerHTML = '';\n",
              "          dataTable['output_type'] = 'display_data';\n",
              "          await google.colab.output.renderOutput(dataTable, element);\n",
              "          const docLink = document.createElement('div');\n",
              "          docLink.innerHTML = docLinkHtml;\n",
              "          element.appendChild(docLink);\n",
              "        }\n",
              "      </script>\n",
              "    </div>\n",
              "  </div>\n",
              "  "
            ]
          },
          "metadata": {},
          "execution_count": 2
        }
      ],
      "source": [
        "import pandas as pd\n",
        "archivo = '/content/drive/MyDrive/CodingDojo/sales_predictions.csv'\n",
        "df = pd.read_csv(archivo)\n",
        "df.head()"
      ]
    },
    {
      "cell_type": "markdown",
      "source": [
        "## Exploración y limpieza de los datos"
      ],
      "metadata": {
        "id": "SK42x9I4UJur"
      }
    },
    {
      "cell_type": "code",
      "source": [
        "# Filas y columas que tiene el dataframe\n",
        "df.shape"
      ],
      "metadata": {
        "id": "17JHkWmYUFps",
        "colab": {
          "base_uri": "https://localhost:8080/"
        },
        "outputId": "ba9ddfb5-c690-463a-e55a-39c83e0d721f"
      },
      "execution_count": 3,
      "outputs": [
        {
          "output_type": "execute_result",
          "data": {
            "text/plain": [
              "(8523, 12)"
            ]
          },
          "metadata": {},
          "execution_count": 3
        }
      ]
    },
    {
      "cell_type": "code",
      "source": [
        "# Información de cada variable (columna)\n",
        "df.info()"
      ],
      "metadata": {
        "colab": {
          "base_uri": "https://localhost:8080/"
        },
        "id": "ZER8rNaEVrMf",
        "outputId": "c5dcd1b3-4531-4fb2-eee3-f453c9b514a6"
      },
      "execution_count": 4,
      "outputs": [
        {
          "output_type": "stream",
          "name": "stdout",
          "text": [
            "<class 'pandas.core.frame.DataFrame'>\n",
            "RangeIndex: 8523 entries, 0 to 8522\n",
            "Data columns (total 12 columns):\n",
            " #   Column                     Non-Null Count  Dtype  \n",
            "---  ------                     --------------  -----  \n",
            " 0   Item_Identifier            8523 non-null   object \n",
            " 1   Item_Weight                7060 non-null   float64\n",
            " 2   Item_Fat_Content           8523 non-null   object \n",
            " 3   Item_Visibility            8523 non-null   float64\n",
            " 4   Item_Type                  8523 non-null   object \n",
            " 5   Item_MRP                   8523 non-null   float64\n",
            " 6   Outlet_Identifier          8523 non-null   object \n",
            " 7   Outlet_Establishment_Year  8523 non-null   int64  \n",
            " 8   Outlet_Size                6113 non-null   object \n",
            " 9   Outlet_Location_Type       8523 non-null   object \n",
            " 10  Outlet_Type                8523 non-null   object \n",
            " 11  Item_Outlet_Sales          8523 non-null   float64\n",
            "dtypes: float64(4), int64(1), object(7)\n",
            "memory usage: 799.2+ KB\n"
          ]
        }
      ]
    },
    {
      "cell_type": "code",
      "source": [
        "# Limpieza de duplicados\n",
        "df.duplicated().sum()"
      ],
      "metadata": {
        "colab": {
          "base_uri": "https://localhost:8080/"
        },
        "id": "UoSjfMOOVwOn",
        "outputId": "f9667074-f6c7-4b52-f807-10ef38cf75cb"
      },
      "execution_count": 5,
      "outputs": [
        {
          "output_type": "execute_result",
          "data": {
            "text/plain": [
              "0"
            ]
          },
          "metadata": {},
          "execution_count": 5
        }
      ]
    },
    {
      "cell_type": "markdown",
      "source": [
        "No existen valores duplicados"
      ],
      "metadata": {
        "id": "clN2wFs2Glc1"
      }
    },
    {
      "cell_type": "code",
      "source": [
        "# Identificar valores faltantes\n",
        "df.isna().sum()"
      ],
      "metadata": {
        "colab": {
          "base_uri": "https://localhost:8080/"
        },
        "id": "VOHXi1VdWA-W",
        "outputId": "ccd3fcf8-1cac-412a-dd15-20cfb72b1d58"
      },
      "execution_count": 6,
      "outputs": [
        {
          "output_type": "execute_result",
          "data": {
            "text/plain": [
              "Item_Identifier                 0\n",
              "Item_Weight                  1463\n",
              "Item_Fat_Content                0\n",
              "Item_Visibility                 0\n",
              "Item_Type                       0\n",
              "Item_MRP                        0\n",
              "Outlet_Identifier               0\n",
              "Outlet_Establishment_Year       0\n",
              "Outlet_Size                  2410\n",
              "Outlet_Location_Type            0\n",
              "Outlet_Type                     0\n",
              "Item_Outlet_Sales               0\n",
              "dtype: int64"
            ]
          },
          "metadata": {},
          "execution_count": 6
        }
      ]
    },
    {
      "cell_type": "markdown",
      "source": [
        "Se observan varios registros faltantes en las variables de peso del producto (Item_Weight) y tamaño de la tienda (Outlet_Size)"
      ],
      "metadata": {
        "id": "vIxUmV5tf_bf"
      }
    },
    {
      "cell_type": "markdown",
      "source": [
        "### Análisis de variable Outlet_Size"
      ],
      "metadata": {
        "id": "E25_iAALwUhf"
      }
    },
    {
      "cell_type": "code",
      "source": [
        "# Valores de la variable Outlet_Size\n",
        "df['Outlet_Size'].value_counts()"
      ],
      "metadata": {
        "colab": {
          "base_uri": "https://localhost:8080/"
        },
        "id": "IPO5fFHnfIwI",
        "outputId": "4c6ec289-f1dc-4428-e9ee-199a95dc0037"
      },
      "execution_count": 7,
      "outputs": [
        {
          "output_type": "execute_result",
          "data": {
            "text/plain": [
              "Medium    2793\n",
              "Small     2388\n",
              "High       932\n",
              "Name: Outlet_Size, dtype: int64"
            ]
          },
          "metadata": {},
          "execution_count": 7
        }
      ]
    },
    {
      "cell_type": "code",
      "source": [
        "# Valores de la variable Outlet_Type\n",
        "df['Outlet_Type'].value_counts()"
      ],
      "metadata": {
        "colab": {
          "base_uri": "https://localhost:8080/"
        },
        "id": "6OaMKakhhl3s",
        "outputId": "1d2719d0-0e98-44b6-ad5c-c058e8261956"
      },
      "execution_count": 8,
      "outputs": [
        {
          "output_type": "execute_result",
          "data": {
            "text/plain": [
              "Supermarket Type1    5577\n",
              "Grocery Store        1083\n",
              "Supermarket Type3     935\n",
              "Supermarket Type2     928\n",
              "Name: Outlet_Type, dtype: int64"
            ]
          },
          "metadata": {},
          "execution_count": 8
        }
      ]
    },
    {
      "cell_type": "code",
      "source": [
        "# Valores de la variable Outlet_Location_Type\n",
        "df['Outlet_Location_Type'].value_counts()"
      ],
      "metadata": {
        "colab": {
          "base_uri": "https://localhost:8080/"
        },
        "id": "nQW1VHvOlq_h",
        "outputId": "6500c0b9-87af-404f-ac2e-d1108aa1e6a1"
      },
      "execution_count": 9,
      "outputs": [
        {
          "output_type": "execute_result",
          "data": {
            "text/plain": [
              "Tier 3    3350\n",
              "Tier 2    2785\n",
              "Tier 1    2388\n",
              "Name: Outlet_Location_Type, dtype: int64"
            ]
          },
          "metadata": {},
          "execution_count": 9
        }
      ]
    },
    {
      "cell_type": "code",
      "source": [
        "# Relación entre Outlet_Size, Outlet_Type y Outlet_Location_Type\n",
        "df.groupby(['Outlet_Size', 'Outlet_Type', 'Outlet_Location_Type'])['Outlet_Type'].count()"
      ],
      "metadata": {
        "colab": {
          "base_uri": "https://localhost:8080/"
        },
        "id": "Az1pNmQQnzqu",
        "outputId": "9ba18f9b-3adf-4275-90ca-ea65b87e3bb7"
      },
      "execution_count": 10,
      "outputs": [
        {
          "output_type": "execute_result",
          "data": {
            "text/plain": [
              "Outlet_Size  Outlet_Type        Outlet_Location_Type\n",
              "High         Supermarket Type1  Tier 3                  932\n",
              "Medium       Supermarket Type1  Tier 1                  930\n",
              "             Supermarket Type2  Tier 3                  928\n",
              "             Supermarket Type3  Tier 3                  935\n",
              "Small        Grocery Store      Tier 1                  528\n",
              "             Supermarket Type1  Tier 1                  930\n",
              "                                Tier 2                  930\n",
              "Name: Outlet_Type, dtype: int64"
            ]
          },
          "metadata": {},
          "execution_count": 10
        }
      ]
    },
    {
      "cell_type": "code",
      "source": [
        "# Relación entre Outlet_Type y Outlet_Location_Type\n",
        "df.groupby(['Outlet_Type', 'Outlet_Location_Type'])['Outlet_Type'].count()"
      ],
      "metadata": {
        "colab": {
          "base_uri": "https://localhost:8080/"
        },
        "id": "WU1wAtSGq2qx",
        "outputId": "9ee403da-8fb6-4d10-b46e-57345d9dce76"
      },
      "execution_count": 11,
      "outputs": [
        {
          "output_type": "execute_result",
          "data": {
            "text/plain": [
              "Outlet_Type        Outlet_Location_Type\n",
              "Grocery Store      Tier 1                   528\n",
              "                   Tier 3                   555\n",
              "Supermarket Type1  Tier 1                  1860\n",
              "                   Tier 2                  2785\n",
              "                   Tier 3                   932\n",
              "Supermarket Type2  Tier 3                   928\n",
              "Supermarket Type3  Tier 3                   935\n",
              "Name: Outlet_Type, dtype: int64"
            ]
          },
          "metadata": {},
          "execution_count": 11
        }
      ]
    },
    {
      "cell_type": "code",
      "source": [
        "# Relación de los valores nulos en Outlet_Size con Outlet_Type y Outlet_Location_Type\n",
        "filtro_outlet_size = df['Outlet_Size'].isna()\n",
        "df[filtro_outlet_size].groupby(['Outlet_Type', 'Outlet_Location_Type'])['Outlet_Type'].count()"
      ],
      "metadata": {
        "colab": {
          "base_uri": "https://localhost:8080/"
        },
        "id": "Bnfo95VtpD3f",
        "outputId": "ef88b920-f586-4b33-b5c0-40c18dd4cc42"
      },
      "execution_count": 12,
      "outputs": [
        {
          "output_type": "execute_result",
          "data": {
            "text/plain": [
              "Outlet_Type        Outlet_Location_Type\n",
              "Grocery Store      Tier 3                   555\n",
              "Supermarket Type1  Tier 2                  1855\n",
              "Name: Outlet_Type, dtype: int64"
            ]
          },
          "metadata": {},
          "execution_count": 12
        }
      ]
    },
    {
      "cell_type": "markdown",
      "source": [
        "**Análisis**  \n",
        "De acuerdo al análisis realizado puedo encontrar una relación entre el tipo de Outlet (Outlet_Type), la ubicación del Outlet (Outlet_Location_Type) y el tamaño del Outlet (Outlet_Size).\n",
        "\n",
        "* Todos los Outlet de tamaño grande (High) son Supermarket Type1 y Tier 3\n",
        "* Los outlet medianos que son de tipo Supermarket Type1 sólo están en Tier 1\n",
        "* Los outlet medianos de tipo Supermarket Type2 y Type3 sólo están en Tier 3\n",
        "* Todos los outlet de tipo Grocery Store son de tamaño pequeño (Small)\n",
        "* Todos los outlet de tipo Supermarket Type1 que están en Tier 1 y 2, son de tamaño pequeño (Small)\n",
        "\n",
        "Los valores nulos en la variable Outlet_Size corresponden a:  \n",
        "* 555 valores Grocery Store, por lo tanto se podría imputar el valor \"Small\"\n",
        "* 1855 valores Supermarket Type1 de Tier 2, por lo tanto se podría imputar el valor \"Small\""
      ],
      "metadata": {
        "id": "JDOyL2U9rNfa"
      }
    },
    {
      "cell_type": "code",
      "source": [
        "# Imputar todos los valores nulos en Outlet_Size con \"Small\" y guardar en un nuevo dataframe\n",
        "df_final = df\n",
        "df_final['Outlet_Size'].fillna('Small', inplace = True)\n",
        "df_final.isna().sum()"
      ],
      "metadata": {
        "colab": {
          "base_uri": "https://localhost:8080/"
        },
        "id": "cDiWjod7u9Nb",
        "outputId": "cbf81c0a-31f8-432f-d986-89b27a9adc19"
      },
      "execution_count": 13,
      "outputs": [
        {
          "output_type": "execute_result",
          "data": {
            "text/plain": [
              "Item_Identifier                 0\n",
              "Item_Weight                  1463\n",
              "Item_Fat_Content                0\n",
              "Item_Visibility                 0\n",
              "Item_Type                       0\n",
              "Item_MRP                        0\n",
              "Outlet_Identifier               0\n",
              "Outlet_Establishment_Year       0\n",
              "Outlet_Size                     0\n",
              "Outlet_Location_Type            0\n",
              "Outlet_Type                     0\n",
              "Item_Outlet_Sales               0\n",
              "dtype: int64"
            ]
          },
          "metadata": {},
          "execution_count": 13
        }
      ]
    },
    {
      "cell_type": "markdown",
      "source": [
        "### Análisis de variable Item_Weight"
      ],
      "metadata": {
        "id": "fy_4mXb8wmKQ"
      }
    },
    {
      "cell_type": "code",
      "source": [
        "# Valores de la variable Item_Weight\n",
        "df_final['Item_Weight'].value_counts()"
      ],
      "metadata": {
        "colab": {
          "base_uri": "https://localhost:8080/"
        },
        "id": "7XQNFisugnc-",
        "outputId": "631089ac-d8cb-454f-ca8c-6f471d256d3c"
      },
      "execution_count": 14,
      "outputs": [
        {
          "output_type": "execute_result",
          "data": {
            "text/plain": [
              "12.150    86\n",
              "17.600    82\n",
              "13.650    77\n",
              "11.800    76\n",
              "15.100    68\n",
              "          ..\n",
              "7.275      2\n",
              "7.685      1\n",
              "9.420      1\n",
              "6.520      1\n",
              "5.400      1\n",
              "Name: Item_Weight, Length: 415, dtype: int64"
            ]
          },
          "metadata": {},
          "execution_count": 14
        }
      ]
    },
    {
      "cell_type": "code",
      "source": [
        "# Valores de la variable Item_Identifier\n",
        "df_final['Item_Identifier'].value_counts()"
      ],
      "metadata": {
        "colab": {
          "base_uri": "https://localhost:8080/"
        },
        "id": "rAoC7QIusj2M",
        "outputId": "05e09140-78ad-4614-e9ff-e3a5a5016d5b"
      },
      "execution_count": 15,
      "outputs": [
        {
          "output_type": "execute_result",
          "data": {
            "text/plain": [
              "FDW13    10\n",
              "FDG33    10\n",
              "NCY18     9\n",
              "FDD38     9\n",
              "DRE49     9\n",
              "         ..\n",
              "FDY43     1\n",
              "FDQ60     1\n",
              "FDO33     1\n",
              "DRF48     1\n",
              "FDC23     1\n",
              "Name: Item_Identifier, Length: 1559, dtype: int64"
            ]
          },
          "metadata": {},
          "execution_count": 15
        }
      ]
    },
    {
      "cell_type": "code",
      "source": [
        "# Observar valores únicos en cada variable\n",
        "df_final.nunique()"
      ],
      "metadata": {
        "colab": {
          "base_uri": "https://localhost:8080/"
        },
        "id": "yBgtmJLJygKn",
        "outputId": "43c80176-d051-466a-80de-71eefce5929e"
      },
      "execution_count": 16,
      "outputs": [
        {
          "output_type": "execute_result",
          "data": {
            "text/plain": [
              "Item_Identifier              1559\n",
              "Item_Weight                   415\n",
              "Item_Fat_Content                5\n",
              "Item_Visibility              7880\n",
              "Item_Type                      16\n",
              "Item_MRP                     5938\n",
              "Outlet_Identifier              10\n",
              "Outlet_Establishment_Year       9\n",
              "Outlet_Size                     3\n",
              "Outlet_Location_Type            3\n",
              "Outlet_Type                     4\n",
              "Item_Outlet_Sales            3493\n",
              "dtype: int64"
            ]
          },
          "metadata": {},
          "execution_count": 16
        }
      ]
    },
    {
      "cell_type": "code",
      "source": [
        "# Relación entre Item_Weight e Item_Identifier\n",
        "df_final.groupby(['Item_Identifier'])['Item_Weight'].count()"
      ],
      "metadata": {
        "colab": {
          "base_uri": "https://localhost:8080/"
        },
        "id": "Ix9IjyIdxCsR",
        "outputId": "360fae26-5a06-4bb8-879c-0cdbe1c65828"
      },
      "execution_count": 17,
      "outputs": [
        {
          "output_type": "execute_result",
          "data": {
            "text/plain": [
              "Item_Identifier\n",
              "DRA12    6\n",
              "DRA24    5\n",
              "DRA59    6\n",
              "DRB01    2\n",
              "DRB13    5\n",
              "        ..\n",
              "NCZ30    6\n",
              "NCZ41    5\n",
              "NCZ42    5\n",
              "NCZ53    4\n",
              "NCZ54    5\n",
              "Name: Item_Weight, Length: 1559, dtype: int64"
            ]
          },
          "metadata": {},
          "execution_count": 17
        }
      ]
    },
    {
      "cell_type": "markdown",
      "source": [
        "**Análisis**  \n",
        "De acuerdo a los datos, todos los Item_Identifier se corresponden con un Item_Weight, por lo que podríamos imputar los valores faltantes en Item_Weight consultando los valores de Item_Identifier e imputando un valor conocido que se obtenga de otro registro"
      ],
      "metadata": {
        "id": "PR8EZHI2z3lI"
      }
    },
    {
      "cell_type": "code",
      "source": [
        "# Obtener los Item_Identifier con valores de Item_Weight NaN\n",
        "filtro_item_weight = df_final['Item_Weight'].isna()\n",
        "df_final[filtro_item_weight]['Item_Identifier']"
      ],
      "metadata": {
        "colab": {
          "base_uri": "https://localhost:8080/"
        },
        "id": "0zP_q1GY9JjB",
        "outputId": "e2183906-b72e-4fe7-ee20-6321a3cf0f1f"
      },
      "execution_count": 18,
      "outputs": [
        {
          "output_type": "execute_result",
          "data": {
            "text/plain": [
              "7       FDP10\n",
              "18      DRI11\n",
              "21      FDW12\n",
              "23      FDC37\n",
              "29      FDC14\n",
              "        ...  \n",
              "8485    DRK37\n",
              "8487    DRG13\n",
              "8488    NCN14\n",
              "8490    FDU44\n",
              "8504    NCN18\n",
              "Name: Item_Identifier, Length: 1463, dtype: object"
            ]
          },
          "metadata": {},
          "execution_count": 18
        }
      ]
    },
    {
      "cell_type": "code",
      "source": [
        "# El filtro nos da un valor de tipo de series de Panda, por lo que podemos iterar en los items de la serie\n",
        "type(df_final[filtro_item_weight]['Item_Identifier'])"
      ],
      "metadata": {
        "colab": {
          "base_uri": "https://localhost:8080/"
        },
        "id": "QO4CqwYpEa1u",
        "outputId": "df88743d-4253-4042-e3c8-cef7b59a0dbb"
      },
      "execution_count": 19,
      "outputs": [
        {
          "output_type": "execute_result",
          "data": {
            "text/plain": [
              "pandas.core.series.Series"
            ]
          },
          "metadata": {},
          "execution_count": 19
        }
      ]
    },
    {
      "cell_type": "code",
      "source": [
        "# Iteramos por la serie de valores que tienen un valor NaN en Item_Weight\n",
        "for index, value in df_final[filtro_item_weight]['Item_Identifier'].iteritems():\n",
        "  \n",
        "  # Creamos un filtro para cada valor de Item_Identifier\n",
        "  filtro_id = df_final['Item_Identifier'] == value\n",
        "\n",
        "  # Guardamos el peso máximo para ese Item_Identifier, funciona con mean() o min() también ya que son valores únicos\n",
        "  peso = df_final[filtro_id]['Item_Weight'].max()\n",
        "\n",
        "  # Cambiamos el valor en el indice obtenido de la serie y en el atributo Item_Weight\n",
        "  df_final.at[index, 'Item_Weight'] = peso"
      ],
      "metadata": {
        "id": "pFmfclPw9ZeK"
      },
      "execution_count": 20,
      "outputs": []
    },
    {
      "cell_type": "code",
      "source": [
        "# Confirmamos si quedan valores nulos\n",
        "df_final.isna().sum()"
      ],
      "metadata": {
        "colab": {
          "base_uri": "https://localhost:8080/"
        },
        "id": "rOKKrKF9D7Lg",
        "outputId": "5e9297d9-f509-4e84-e71d-63c63f4c7522"
      },
      "execution_count": 21,
      "outputs": [
        {
          "output_type": "execute_result",
          "data": {
            "text/plain": [
              "Item_Identifier              0\n",
              "Item_Weight                  4\n",
              "Item_Fat_Content             0\n",
              "Item_Visibility              0\n",
              "Item_Type                    0\n",
              "Item_MRP                     0\n",
              "Outlet_Identifier            0\n",
              "Outlet_Establishment_Year    0\n",
              "Outlet_Size                  0\n",
              "Outlet_Location_Type         0\n",
              "Outlet_Type                  0\n",
              "Item_Outlet_Sales            0\n",
              "dtype: int64"
            ]
          },
          "metadata": {},
          "execution_count": 21
        }
      ]
    },
    {
      "cell_type": "markdown",
      "source": [
        "Todavía quedan 4 registros con Item_Weight NaN, esto debido a que no existía ningún otro registro con un Item_Identifier igual, por lo que voy a eliminar estos registros ya que representan menos del 0.05% de los datos"
      ],
      "metadata": {
        "id": "zj75u9DTHH7z"
      }
    },
    {
      "cell_type": "code",
      "source": [
        "df_final.dropna(inplace=True)\n",
        "df_final.isna().sum()"
      ],
      "metadata": {
        "colab": {
          "base_uri": "https://localhost:8080/"
        },
        "id": "R8Mofj5JHChA",
        "outputId": "fe167f96-a86a-4cde-e1ba-f966465fbd83"
      },
      "execution_count": 22,
      "outputs": [
        {
          "output_type": "execute_result",
          "data": {
            "text/plain": [
              "Item_Identifier              0\n",
              "Item_Weight                  0\n",
              "Item_Fat_Content             0\n",
              "Item_Visibility              0\n",
              "Item_Type                    0\n",
              "Item_MRP                     0\n",
              "Outlet_Identifier            0\n",
              "Outlet_Establishment_Year    0\n",
              "Outlet_Size                  0\n",
              "Outlet_Location_Type         0\n",
              "Outlet_Type                  0\n",
              "Item_Outlet_Sales            0\n",
              "dtype: int64"
            ]
          },
          "metadata": {},
          "execution_count": 22
        }
      ]
    },
    {
      "cell_type": "markdown",
      "source": [
        "La base de datos ya no tiene valores faltantes."
      ],
      "metadata": {
        "id": "MNk0skVLI2SK"
      }
    },
    {
      "cell_type": "markdown",
      "source": [
        "### Encontrar y resolver categorías inconsistentes"
      ],
      "metadata": {
        "id": "plq3wQ4BI9iy"
      }
    },
    {
      "cell_type": "code",
      "source": [
        "df_final.head(1)"
      ],
      "metadata": {
        "colab": {
          "base_uri": "https://localhost:8080/",
          "height": 81
        },
        "id": "RVANDmLoJ_Ah",
        "outputId": "59cc4d40-55e2-4768-b1f4-5b6017052220"
      },
      "execution_count": 23,
      "outputs": [
        {
          "output_type": "execute_result",
          "data": {
            "text/plain": [
              "  Item_Identifier  Item_Weight Item_Fat_Content  Item_Visibility Item_Type  \\\n",
              "0           FDA15          9.3          Low Fat         0.016047     Dairy   \n",
              "\n",
              "   Item_MRP Outlet_Identifier  Outlet_Establishment_Year Outlet_Size  \\\n",
              "0  249.8092            OUT049                       1999      Medium   \n",
              "\n",
              "  Outlet_Location_Type        Outlet_Type  Item_Outlet_Sales  \n",
              "0               Tier 1  Supermarket Type1           3735.138  "
            ],
            "text/html": [
              "\n",
              "  <div id=\"df-83b44143-9f44-445e-9d55-60030e7fdb14\">\n",
              "    <div class=\"colab-df-container\">\n",
              "      <div>\n",
              "<style scoped>\n",
              "    .dataframe tbody tr th:only-of-type {\n",
              "        vertical-align: middle;\n",
              "    }\n",
              "\n",
              "    .dataframe tbody tr th {\n",
              "        vertical-align: top;\n",
              "    }\n",
              "\n",
              "    .dataframe thead th {\n",
              "        text-align: right;\n",
              "    }\n",
              "</style>\n",
              "<table border=\"1\" class=\"dataframe\">\n",
              "  <thead>\n",
              "    <tr style=\"text-align: right;\">\n",
              "      <th></th>\n",
              "      <th>Item_Identifier</th>\n",
              "      <th>Item_Weight</th>\n",
              "      <th>Item_Fat_Content</th>\n",
              "      <th>Item_Visibility</th>\n",
              "      <th>Item_Type</th>\n",
              "      <th>Item_MRP</th>\n",
              "      <th>Outlet_Identifier</th>\n",
              "      <th>Outlet_Establishment_Year</th>\n",
              "      <th>Outlet_Size</th>\n",
              "      <th>Outlet_Location_Type</th>\n",
              "      <th>Outlet_Type</th>\n",
              "      <th>Item_Outlet_Sales</th>\n",
              "    </tr>\n",
              "  </thead>\n",
              "  <tbody>\n",
              "    <tr>\n",
              "      <th>0</th>\n",
              "      <td>FDA15</td>\n",
              "      <td>9.3</td>\n",
              "      <td>Low Fat</td>\n",
              "      <td>0.016047</td>\n",
              "      <td>Dairy</td>\n",
              "      <td>249.8092</td>\n",
              "      <td>OUT049</td>\n",
              "      <td>1999</td>\n",
              "      <td>Medium</td>\n",
              "      <td>Tier 1</td>\n",
              "      <td>Supermarket Type1</td>\n",
              "      <td>3735.138</td>\n",
              "    </tr>\n",
              "  </tbody>\n",
              "</table>\n",
              "</div>\n",
              "      <button class=\"colab-df-convert\" onclick=\"convertToInteractive('df-83b44143-9f44-445e-9d55-60030e7fdb14')\"\n",
              "              title=\"Convert this dataframe to an interactive table.\"\n",
              "              style=\"display:none;\">\n",
              "        \n",
              "  <svg xmlns=\"http://www.w3.org/2000/svg\" height=\"24px\"viewBox=\"0 0 24 24\"\n",
              "       width=\"24px\">\n",
              "    <path d=\"M0 0h24v24H0V0z\" fill=\"none\"/>\n",
              "    <path d=\"M18.56 5.44l.94 2.06.94-2.06 2.06-.94-2.06-.94-.94-2.06-.94 2.06-2.06.94zm-11 1L8.5 8.5l.94-2.06 2.06-.94-2.06-.94L8.5 2.5l-.94 2.06-2.06.94zm10 10l.94 2.06.94-2.06 2.06-.94-2.06-.94-.94-2.06-.94 2.06-2.06.94z\"/><path d=\"M17.41 7.96l-1.37-1.37c-.4-.4-.92-.59-1.43-.59-.52 0-1.04.2-1.43.59L10.3 9.45l-7.72 7.72c-.78.78-.78 2.05 0 2.83L4 21.41c.39.39.9.59 1.41.59.51 0 1.02-.2 1.41-.59l7.78-7.78 2.81-2.81c.8-.78.8-2.07 0-2.86zM5.41 20L4 18.59l7.72-7.72 1.47 1.35L5.41 20z\"/>\n",
              "  </svg>\n",
              "      </button>\n",
              "      \n",
              "  <style>\n",
              "    .colab-df-container {\n",
              "      display:flex;\n",
              "      flex-wrap:wrap;\n",
              "      gap: 12px;\n",
              "    }\n",
              "\n",
              "    .colab-df-convert {\n",
              "      background-color: #E8F0FE;\n",
              "      border: none;\n",
              "      border-radius: 50%;\n",
              "      cursor: pointer;\n",
              "      display: none;\n",
              "      fill: #1967D2;\n",
              "      height: 32px;\n",
              "      padding: 0 0 0 0;\n",
              "      width: 32px;\n",
              "    }\n",
              "\n",
              "    .colab-df-convert:hover {\n",
              "      background-color: #E2EBFA;\n",
              "      box-shadow: 0px 1px 2px rgba(60, 64, 67, 0.3), 0px 1px 3px 1px rgba(60, 64, 67, 0.15);\n",
              "      fill: #174EA6;\n",
              "    }\n",
              "\n",
              "    [theme=dark] .colab-df-convert {\n",
              "      background-color: #3B4455;\n",
              "      fill: #D2E3FC;\n",
              "    }\n",
              "\n",
              "    [theme=dark] .colab-df-convert:hover {\n",
              "      background-color: #434B5C;\n",
              "      box-shadow: 0px 1px 3px 1px rgba(0, 0, 0, 0.15);\n",
              "      filter: drop-shadow(0px 1px 2px rgba(0, 0, 0, 0.3));\n",
              "      fill: #FFFFFF;\n",
              "    }\n",
              "  </style>\n",
              "\n",
              "      <script>\n",
              "        const buttonEl =\n",
              "          document.querySelector('#df-83b44143-9f44-445e-9d55-60030e7fdb14 button.colab-df-convert');\n",
              "        buttonEl.style.display =\n",
              "          google.colab.kernel.accessAllowed ? 'block' : 'none';\n",
              "\n",
              "        async function convertToInteractive(key) {\n",
              "          const element = document.querySelector('#df-83b44143-9f44-445e-9d55-60030e7fdb14');\n",
              "          const dataTable =\n",
              "            await google.colab.kernel.invokeFunction('convertToInteractive',\n",
              "                                                     [key], {});\n",
              "          if (!dataTable) return;\n",
              "\n",
              "          const docLinkHtml = 'Like what you see? Visit the ' +\n",
              "            '<a target=\"_blank\" href=https://colab.research.google.com/notebooks/data_table.ipynb>data table notebook</a>'\n",
              "            + ' to learn more about interactive tables.';\n",
              "          element.innerHTML = '';\n",
              "          dataTable['output_type'] = 'display_data';\n",
              "          await google.colab.output.renderOutput(dataTable, element);\n",
              "          const docLink = document.createElement('div');\n",
              "          docLink.innerHTML = docLinkHtml;\n",
              "          element.appendChild(docLink);\n",
              "        }\n",
              "      </script>\n",
              "    </div>\n",
              "  </div>\n",
              "  "
            ]
          },
          "metadata": {},
          "execution_count": 23
        }
      ]
    },
    {
      "cell_type": "code",
      "source": [
        "df_final.info()"
      ],
      "metadata": {
        "colab": {
          "base_uri": "https://localhost:8080/"
        },
        "id": "chowwoenIrFT",
        "outputId": "bd17aa91-76de-4514-9f34-0584fcea1b16"
      },
      "execution_count": 24,
      "outputs": [
        {
          "output_type": "stream",
          "name": "stdout",
          "text": [
            "<class 'pandas.core.frame.DataFrame'>\n",
            "Int64Index: 8519 entries, 0 to 8522\n",
            "Data columns (total 12 columns):\n",
            " #   Column                     Non-Null Count  Dtype  \n",
            "---  ------                     --------------  -----  \n",
            " 0   Item_Identifier            8519 non-null   object \n",
            " 1   Item_Weight                8519 non-null   float64\n",
            " 2   Item_Fat_Content           8519 non-null   object \n",
            " 3   Item_Visibility            8519 non-null   float64\n",
            " 4   Item_Type                  8519 non-null   object \n",
            " 5   Item_MRP                   8519 non-null   float64\n",
            " 6   Outlet_Identifier          8519 non-null   object \n",
            " 7   Outlet_Establishment_Year  8519 non-null   int64  \n",
            " 8   Outlet_Size                8519 non-null   object \n",
            " 9   Outlet_Location_Type       8519 non-null   object \n",
            " 10  Outlet_Type                8519 non-null   object \n",
            " 11  Item_Outlet_Sales          8519 non-null   float64\n",
            "dtypes: float64(4), int64(1), object(7)\n",
            "memory usage: 865.2+ KB\n"
          ]
        }
      ]
    },
    {
      "cell_type": "code",
      "source": [
        "# Revisar categorías en valores Item_Fat_Content, Item_Type, Outlet_Identifier\n",
        "# El resto de columnas ya se revisaron anteriormente sin encontrar inconsistencias\n",
        "df_final['Item_Fat_Content'].value_counts()"
      ],
      "metadata": {
        "colab": {
          "base_uri": "https://localhost:8080/"
        },
        "id": "Ph-_GFsxIvZZ",
        "outputId": "08cadf0d-bd77-4f61-d2c7-7cc12defe5c8"
      },
      "execution_count": 25,
      "outputs": [
        {
          "output_type": "execute_result",
          "data": {
            "text/plain": [
              "Low Fat    5088\n",
              "Regular    2886\n",
              "LF          316\n",
              "reg         117\n",
              "low fat     112\n",
              "Name: Item_Fat_Content, dtype: int64"
            ]
          },
          "metadata": {},
          "execution_count": 25
        }
      ]
    },
    {
      "cell_type": "code",
      "source": [
        "df_final['Item_Type'].value_counts()"
      ],
      "metadata": {
        "colab": {
          "base_uri": "https://localhost:8080/"
        },
        "id": "fKVpzh03KgH9",
        "outputId": "b429d0f8-7d6d-41c6-d825-0fcdcea053c1"
      },
      "execution_count": 26,
      "outputs": [
        {
          "output_type": "execute_result",
          "data": {
            "text/plain": [
              "Fruits and Vegetables    1232\n",
              "Snack Foods              1199\n",
              "Household                 910\n",
              "Frozen Foods              855\n",
              "Dairy                     681\n",
              "Canned                    649\n",
              "Baking Goods              647\n",
              "Health and Hygiene        520\n",
              "Soft Drinks               445\n",
              "Meat                      425\n",
              "Breads                    251\n",
              "Hard Drinks               214\n",
              "Others                    169\n",
              "Starchy Foods             148\n",
              "Breakfast                 110\n",
              "Seafood                    64\n",
              "Name: Item_Type, dtype: int64"
            ]
          },
          "metadata": {},
          "execution_count": 26
        }
      ]
    },
    {
      "cell_type": "code",
      "source": [
        "df_final['Outlet_Identifier'].value_counts()"
      ],
      "metadata": {
        "colab": {
          "base_uri": "https://localhost:8080/"
        },
        "id": "OVItZHftKni9",
        "outputId": "12e4e63d-36c3-4fc9-b2ea-50ad46a0f946"
      },
      "execution_count": 27,
      "outputs": [
        {
          "output_type": "execute_result",
          "data": {
            "text/plain": [
              "OUT013    932\n",
              "OUT027    932\n",
              "OUT049    930\n",
              "OUT046    930\n",
              "OUT035    930\n",
              "OUT045    929\n",
              "OUT018    928\n",
              "OUT017    926\n",
              "OUT010    555\n",
              "OUT019    527\n",
              "Name: Outlet_Identifier, dtype: int64"
            ]
          },
          "metadata": {},
          "execution_count": 27
        }
      ]
    },
    {
      "cell_type": "markdown",
      "source": [
        "Las columnas Item_Type y Outlet_Identifier parecen tener información correcta, la columna Item_Fat_Content tiene categorías que se pueden corregir."
      ],
      "metadata": {
        "id": "nBp3haRfKyOd"
      }
    },
    {
      "cell_type": "code",
      "source": [
        "# Corregir categorías inconsistentes en Item_Fat_Content\n",
        "df_final['Item_Fat_Content'].replace('LF', 'Low Fat', inplace = True)\n",
        "df_final['Item_Fat_Content'].replace('low fat', 'Low Fat', inplace = True)\n",
        "df_final['Item_Fat_Content'].replace('reg', 'Regular', inplace = True)\n",
        "df_final['Item_Fat_Content'].value_counts()"
      ],
      "metadata": {
        "colab": {
          "base_uri": "https://localhost:8080/"
        },
        "id": "NdVqcnO8Kuu2",
        "outputId": "7b17a309-7d3d-4973-c755-bea8acc5f8c7"
      },
      "execution_count": 28,
      "outputs": [
        {
          "output_type": "execute_result",
          "data": {
            "text/plain": [
              "Low Fat    5516\n",
              "Regular    3003\n",
              "Name: Item_Fat_Content, dtype: int64"
            ]
          },
          "metadata": {},
          "execution_count": 28
        }
      ]
    },
    {
      "cell_type": "markdown",
      "source": [
        "### Valores sumarizados para columnas numéricas"
      ],
      "metadata": {
        "id": "B5D2Ym1TLuz_"
      }
    },
    {
      "cell_type": "code",
      "source": [
        "df_final.describe().loc[['min', 'max', 'mean']]"
      ],
      "metadata": {
        "colab": {
          "base_uri": "https://localhost:8080/",
          "height": 143
        },
        "id": "3mH4bNwiLmBk",
        "outputId": "e952811a-da55-476e-af12-18cdf436f4c9"
      },
      "execution_count": 29,
      "outputs": [
        {
          "output_type": "execute_result",
          "data": {
            "text/plain": [
              "      Item_Weight  Item_Visibility    Item_MRP  Outlet_Establishment_Year  \\\n",
              "min       4.55500         0.000000   31.290000                1985.000000   \n",
              "max      21.35000         0.328391  266.888400                2009.000000   \n",
              "mean     12.87542         0.066112  141.010019                1997.837892   \n",
              "\n",
              "      Item_Outlet_Sales  \n",
              "min           33.290000  \n",
              "max        13086.964800  \n",
              "mean        2181.188779  "
            ],
            "text/html": [
              "\n",
              "  <div id=\"df-b0cd9b5b-bee8-4f20-84a1-e36b0345f9d7\">\n",
              "    <div class=\"colab-df-container\">\n",
              "      <div>\n",
              "<style scoped>\n",
              "    .dataframe tbody tr th:only-of-type {\n",
              "        vertical-align: middle;\n",
              "    }\n",
              "\n",
              "    .dataframe tbody tr th {\n",
              "        vertical-align: top;\n",
              "    }\n",
              "\n",
              "    .dataframe thead th {\n",
              "        text-align: right;\n",
              "    }\n",
              "</style>\n",
              "<table border=\"1\" class=\"dataframe\">\n",
              "  <thead>\n",
              "    <tr style=\"text-align: right;\">\n",
              "      <th></th>\n",
              "      <th>Item_Weight</th>\n",
              "      <th>Item_Visibility</th>\n",
              "      <th>Item_MRP</th>\n",
              "      <th>Outlet_Establishment_Year</th>\n",
              "      <th>Item_Outlet_Sales</th>\n",
              "    </tr>\n",
              "  </thead>\n",
              "  <tbody>\n",
              "    <tr>\n",
              "      <th>min</th>\n",
              "      <td>4.55500</td>\n",
              "      <td>0.000000</td>\n",
              "      <td>31.290000</td>\n",
              "      <td>1985.000000</td>\n",
              "      <td>33.290000</td>\n",
              "    </tr>\n",
              "    <tr>\n",
              "      <th>max</th>\n",
              "      <td>21.35000</td>\n",
              "      <td>0.328391</td>\n",
              "      <td>266.888400</td>\n",
              "      <td>2009.000000</td>\n",
              "      <td>13086.964800</td>\n",
              "    </tr>\n",
              "    <tr>\n",
              "      <th>mean</th>\n",
              "      <td>12.87542</td>\n",
              "      <td>0.066112</td>\n",
              "      <td>141.010019</td>\n",
              "      <td>1997.837892</td>\n",
              "      <td>2181.188779</td>\n",
              "    </tr>\n",
              "  </tbody>\n",
              "</table>\n",
              "</div>\n",
              "      <button class=\"colab-df-convert\" onclick=\"convertToInteractive('df-b0cd9b5b-bee8-4f20-84a1-e36b0345f9d7')\"\n",
              "              title=\"Convert this dataframe to an interactive table.\"\n",
              "              style=\"display:none;\">\n",
              "        \n",
              "  <svg xmlns=\"http://www.w3.org/2000/svg\" height=\"24px\"viewBox=\"0 0 24 24\"\n",
              "       width=\"24px\">\n",
              "    <path d=\"M0 0h24v24H0V0z\" fill=\"none\"/>\n",
              "    <path d=\"M18.56 5.44l.94 2.06.94-2.06 2.06-.94-2.06-.94-.94-2.06-.94 2.06-2.06.94zm-11 1L8.5 8.5l.94-2.06 2.06-.94-2.06-.94L8.5 2.5l-.94 2.06-2.06.94zm10 10l.94 2.06.94-2.06 2.06-.94-2.06-.94-.94-2.06-.94 2.06-2.06.94z\"/><path d=\"M17.41 7.96l-1.37-1.37c-.4-.4-.92-.59-1.43-.59-.52 0-1.04.2-1.43.59L10.3 9.45l-7.72 7.72c-.78.78-.78 2.05 0 2.83L4 21.41c.39.39.9.59 1.41.59.51 0 1.02-.2 1.41-.59l7.78-7.78 2.81-2.81c.8-.78.8-2.07 0-2.86zM5.41 20L4 18.59l7.72-7.72 1.47 1.35L5.41 20z\"/>\n",
              "  </svg>\n",
              "      </button>\n",
              "      \n",
              "  <style>\n",
              "    .colab-df-container {\n",
              "      display:flex;\n",
              "      flex-wrap:wrap;\n",
              "      gap: 12px;\n",
              "    }\n",
              "\n",
              "    .colab-df-convert {\n",
              "      background-color: #E8F0FE;\n",
              "      border: none;\n",
              "      border-radius: 50%;\n",
              "      cursor: pointer;\n",
              "      display: none;\n",
              "      fill: #1967D2;\n",
              "      height: 32px;\n",
              "      padding: 0 0 0 0;\n",
              "      width: 32px;\n",
              "    }\n",
              "\n",
              "    .colab-df-convert:hover {\n",
              "      background-color: #E2EBFA;\n",
              "      box-shadow: 0px 1px 2px rgba(60, 64, 67, 0.3), 0px 1px 3px 1px rgba(60, 64, 67, 0.15);\n",
              "      fill: #174EA6;\n",
              "    }\n",
              "\n",
              "    [theme=dark] .colab-df-convert {\n",
              "      background-color: #3B4455;\n",
              "      fill: #D2E3FC;\n",
              "    }\n",
              "\n",
              "    [theme=dark] .colab-df-convert:hover {\n",
              "      background-color: #434B5C;\n",
              "      box-shadow: 0px 1px 3px 1px rgba(0, 0, 0, 0.15);\n",
              "      filter: drop-shadow(0px 1px 2px rgba(0, 0, 0, 0.3));\n",
              "      fill: #FFFFFF;\n",
              "    }\n",
              "  </style>\n",
              "\n",
              "      <script>\n",
              "        const buttonEl =\n",
              "          document.querySelector('#df-b0cd9b5b-bee8-4f20-84a1-e36b0345f9d7 button.colab-df-convert');\n",
              "        buttonEl.style.display =\n",
              "          google.colab.kernel.accessAllowed ? 'block' : 'none';\n",
              "\n",
              "        async function convertToInteractive(key) {\n",
              "          const element = document.querySelector('#df-b0cd9b5b-bee8-4f20-84a1-e36b0345f9d7');\n",
              "          const dataTable =\n",
              "            await google.colab.kernel.invokeFunction('convertToInteractive',\n",
              "                                                     [key], {});\n",
              "          if (!dataTable) return;\n",
              "\n",
              "          const docLinkHtml = 'Like what you see? Visit the ' +\n",
              "            '<a target=\"_blank\" href=https://colab.research.google.com/notebooks/data_table.ipynb>data table notebook</a>'\n",
              "            + ' to learn more about interactive tables.';\n",
              "          element.innerHTML = '';\n",
              "          dataTable['output_type'] = 'display_data';\n",
              "          await google.colab.output.renderOutput(dataTable, element);\n",
              "          const docLink = document.createElement('div');\n",
              "          docLink.innerHTML = docLinkHtml;\n",
              "          element.appendChild(docLink);\n",
              "        }\n",
              "      </script>\n",
              "    </div>\n",
              "  </div>\n",
              "  "
            ]
          },
          "metadata": {},
          "execution_count": 29
        }
      ]
    },
    {
      "cell_type": "markdown",
      "source": [
        "Se muestran los valores minimos, máximos y media de todas las columnas numéricas."
      ],
      "metadata": {
        "id": "---KAzorTPv0"
      }
    },
    {
      "cell_type": "markdown",
      "source": [
        "## Análisis estadístico"
      ],
      "metadata": {
        "id": "8KDux7_LpgFl"
      }
    },
    {
      "cell_type": "code",
      "source": [
        "import matplotlib.pyplot as plt\n",
        "import seaborn as sns"
      ],
      "metadata": {
        "id": "qu9KThh9povM"
      },
      "execution_count": 30,
      "outputs": []
    },
    {
      "cell_type": "code",
      "source": [
        "# Cambiar variables categóricas par poder gráficar\n",
        "# En la columna Outlet_Size cambiaré Small por 0, Medium por 1 y High por 2\n",
        "df_final['Outlet_Size'].replace(['Small', 'Medium', 'High'], [0, 1 ,2], inplace = True)\n",
        "df_final['Outlet_Size'].value_counts()"
      ],
      "metadata": {
        "colab": {
          "base_uri": "https://localhost:8080/"
        },
        "id": "RZvsUbts1-SL",
        "outputId": "5a0fbab9-cf85-4012-ea21-588e71a63967"
      },
      "execution_count": 31,
      "outputs": [
        {
          "output_type": "execute_result",
          "data": {
            "text/plain": [
              "0    4797\n",
              "1    2790\n",
              "2     932\n",
              "Name: Outlet_Size, dtype: int64"
            ]
          },
          "metadata": {},
          "execution_count": 31
        }
      ]
    },
    {
      "cell_type": "code",
      "source": [
        "# En la columna Outlet_Location_Type cambiaré Tier 1 por 0, Tier 2 por 1 y Tier 3 por 2\n",
        "df_final['Outlet_Location_Type'].replace(['Tier 1', 'Tier 2', 'Tier 3'], [0, 1 ,2], inplace = True)\n",
        "df_final['Outlet_Location_Type'].value_counts()"
      ],
      "metadata": {
        "colab": {
          "base_uri": "https://localhost:8080/"
        },
        "id": "-g47-4a5286f",
        "outputId": "f5159d9c-2107-4912-ac84-2a5ca7a3ec64"
      },
      "execution_count": 32,
      "outputs": [
        {
          "output_type": "execute_result",
          "data": {
            "text/plain": [
              "2    3347\n",
              "1    2785\n",
              "0    2387\n",
              "Name: Outlet_Location_Type, dtype: int64"
            ]
          },
          "metadata": {},
          "execution_count": 32
        }
      ]
    },
    {
      "cell_type": "code",
      "source": [
        "# En la columna Outlet_Type cambiaré Grocery Store por 0, Supermarket Type1 por 1, Supermarket Type2 por 2 y Supermarket Type3 por 3\n",
        "df_final['Outlet_Type'].replace(['Grocery Store', 'Supermarket Type1', 'Supermarket Type2', 'Supermarket Type3'], [0, 1, 2, 3], inplace = True)\n",
        "df_final['Outlet_Type'].value_counts()"
      ],
      "metadata": {
        "colab": {
          "base_uri": "https://localhost:8080/"
        },
        "id": "G4I18O-c3bC1",
        "outputId": "1d9f08c3-9fc9-4230-c361-33c6ea80bfbf"
      },
      "execution_count": 33,
      "outputs": [
        {
          "output_type": "execute_result",
          "data": {
            "text/plain": [
              "1    5577\n",
              "0    1082\n",
              "3     932\n",
              "2     928\n",
              "Name: Outlet_Type, dtype: int64"
            ]
          },
          "metadata": {},
          "execution_count": 33
        }
      ]
    },
    {
      "cell_type": "code",
      "source": [
        "# Definir estilo y paletas para todos los gráficos\n",
        "plt.style.use('seaborn')\n",
        "sns.set_palette('bright')"
      ],
      "metadata": {
        "id": "oCMUVOIxVzKc"
      },
      "execution_count": 58,
      "outputs": []
    },
    {
      "cell_type": "code",
      "source": [
        "# Items vendidos por tipo de supermercado\n",
        "# Creo nuevos DF para cada tipo de supermercado\n",
        "df_grocery = df_final.loc[df_final['Outlet_Type'] == 0]\n",
        "df_supermarket1 = df_final.loc[df_final['Outlet_Type'] == 1]\n",
        "df_supermarket2 = df_final.loc[df_final['Outlet_Type'] == 2]\n",
        "df_supermarket3 = df_final.loc[df_final['Outlet_Type'] == 3]\n",
        "\n",
        "# Mostrar los gráficos\n",
        "plt.hist(df_grocery['Item_Outlet_Sales'], alpha=0.5, label='Grocery Store', bins=50)\n",
        "plt.hist(df_supermarket1['Item_Outlet_Sales'], alpha=0.5, label='Supermarket Type 1', bins=50)\n",
        "plt.hist(df_supermarket2['Item_Outlet_Sales'], alpha=0.5, label='Supermarket Type 2', bins=50)\n",
        "plt.hist(df_supermarket3['Item_Outlet_Sales'], alpha=0.5, label='Supermarket Type 3', bins=50)\n",
        "plt.legend(loc='upper right')\n",
        "plt.xlabel('Items vendidos')\n",
        "plt.ylabel('Tiendas')\n",
        "plt.show()"
      ],
      "metadata": {
        "colab": {
          "base_uri": "https://localhost:8080/",
          "height": 361
        },
        "id": "pcfCfpM7RhzK",
        "outputId": "d5617235-09b5-4ba1-be16-c1fd3cb4d841"
      },
      "execution_count": 60,
      "outputs": [
        {
          "output_type": "display_data",
          "data": {
            "text/plain": [
              "<Figure size 576x396 with 1 Axes>"
            ],
            "image/png": "[encoded data removed]"
          },
          "metadata": {}
        }
      ]
    },
    {
      "cell_type": "markdown",
      "source": [
        "Podemos observar que existen más tiendas de tipo Supermarket Type 1 y que el valor de ventas de Items se concentra hasta valores de 6000, en cambio las tiendas de tipo Supermarket Type 3, son menos pero sus ventas de Items son más altas."
      ],
      "metadata": {
        "id": "fpLY26vrE1oR"
      }
    },
    {
      "cell_type": "code",
      "source": [
        "# Items vendidos por contenido de grasa\n",
        "plt.hist(df_grocery['Item_Fat_Content'], alpha=0.5, label='Grocery Store')\n",
        "plt.hist(df_supermarket1['Item_Fat_Content'], alpha=0.5, label='Supermarket Type 1')\n",
        "plt.hist(df_supermarket2['Item_Fat_Content'], alpha=0.5, label='Supermarket Type 2')\n",
        "plt.hist(df_supermarket3['Item_Fat_Content'], alpha=0.5, label='Supermarket Type 3')\n",
        "plt.legend(loc='upper left')\n",
        "plt.xlabel('Contenido de grasa')\n",
        "plt.ylabel('Items vendidos')\n",
        "plt.show()"
      ],
      "metadata": {
        "colab": {
          "base_uri": "https://localhost:8080/",
          "height": 361
        },
        "id": "ihQJ4sQe7U0L",
        "outputId": "c4359968-936b-4384-c485-2afb5208521c"
      },
      "execution_count": 62,
      "outputs": [
        {
          "output_type": "display_data",
          "data": {
            "text/plain": [
              "<Figure size 576x396 with 1 Axes>"
            ],
            "image/png": "[encoded data removed]"
          },
          "metadata": {}
        }
      ]
    },
    {
      "cell_type": "markdown",
      "source": [
        "Podemos observar que los items bajos en grasa son mas vendidos que los regulares en todas las tiendas."
      ],
      "metadata": {
        "id": "Iwl-clwNDi--"
      }
    },
    {
      "cell_type": "code",
      "source": [
        "# Tipos de Items vendidos\n",
        "plt.title('Tipos de Items vendidos');\n",
        "df_final['Item_Type'].value_counts().plot(kind = 'bar', edgecolor = 'black');"
      ],
      "metadata": {
        "colab": {
          "base_uri": "https://localhost:8080/",
          "height": 449
        },
        "id": "TEm9eKafXF8q",
        "outputId": "4340de88-3537-4984-910a-30c5091ac489"
      },
      "execution_count": 66,
      "outputs": [
        {
          "output_type": "display_data",
          "data": {
            "text/plain": [
              "<Figure size 576x396 with 1 Axes>"
            ],
            "image/png": "[encoded data removed]"
          },
          "metadata": {}
        }
      ]
    },
    {
      "cell_type": "markdown",
      "source": [
        "Podemos observar cuáles son los Items más vendidos por tipo de producto."
      ],
      "metadata": {
        "id": "X6YeCPalab7P"
      }
    },
    {
      "cell_type": "code",
      "source": [
        "# Estadisticas de ventas por tipo de tienda\n",
        "sns.boxplot(x='Outlet_Type', y='Item_Outlet_Sales', data=df_final, notch=True)\n",
        "plt.xticks(rotation=45)\n",
        "plt.xticks([0, 1, 2, 3], ['Grocery Store', 'Supermarket Type 1', 'Supermarket Type 2', 'Supermarket Type 3'])\n",
        "plt.ylabel('Valor de venta por item')\n",
        "plt.show()"
      ],
      "metadata": {
        "colab": {
          "base_uri": "https://localhost:8080/",
          "height": 421
        },
        "id": "A9HnNAcMaoOA",
        "outputId": "73ac3168-ca06-440d-94ce-37f928dc5a85"
      },
      "execution_count": 80,
      "outputs": [
        {
          "output_type": "display_data",
          "data": {
            "text/plain": [
              "<Figure size 576x396 with 1 Axes>"
            ],
            "image/png": "[encoded data removed]"
          },
          "metadata": {}
        }
      ]
    },
    {
      "cell_type": "markdown",
      "source": [
        "En este gráfico podemos observar cómo se concentran el valor de ventas por cada tipo de tienda, vemos que existen ciertos valores que están fuera de rango, sin embargo, nos permite observar que los Supermarket Type 3 tienen una mayor cantidad de items vendidos con una media superior al resto."
      ],
      "metadata": {
        "id": "BPlCg7CDe3pz"
      }
    },
    {
      "cell_type": "code",
      "source": [
        "# Gráfico de items vendidos por tipo de item\n",
        "sns.boxplot(x='Item_Type', y='Item_Outlet_Sales', data=df_final, notch=True)\n",
        "plt.xticks(rotation=90)\n",
        "plt.show()"
      ],
      "metadata": {
        "colab": {
          "base_uri": "https://localhost:8080/",
          "height": 448
        },
        "id": "tcCcMHE7b05N",
        "outputId": "6712770c-ed3a-4c17-bab9-ac404a7c79de"
      },
      "execution_count": 94,
      "outputs": [
        {
          "output_type": "display_data",
          "data": {
            "text/plain": [
              "<Figure size 576x396 with 1 Axes>"
            ],
            "image/png": "[encoded data removed]"
          },
          "metadata": {}
        }
      ]
    },
    {
      "cell_type": "code",
      "source": [
        "# Análisis de la variable MRP (Maximum Retail Price - Precio máximo de venta)\n",
        "sns.boxplot(x='Item_Type', y='Item_MRP', data=df_final, notch=True)\n",
        "plt.xticks(rotation=90)\n",
        "plt.show()"
      ],
      "metadata": {
        "colab": {
          "base_uri": "https://localhost:8080/",
          "height": 448
        },
        "id": "i5qWZMWyhUpq",
        "outputId": "60bce9d1-4549-4232-9341-fd935071e2f8"
      },
      "execution_count": 96,
      "outputs": [
        {
          "output_type": "display_data",
          "data": {
            "text/plain": [
              "<Figure size 576x396 with 1 Axes>"
            ],
            "image/png": "[encoded data removed]"
          },
          "metadata": {}
        }
      ]
    },
    {
      "cell_type": "markdown",
      "source": [
        "Este gráfico nos permite observar la variación del precio máximo de venta (MRP) por cada tipo de producto"
      ],
      "metadata": {
        "id": "CTe7_oa3iyF_"
      }
    },
    {
      "cell_type": "code",
      "source": [
        "# Mapa de calor de correlación de características\n",
        "corr = df_final.corr()\n",
        "sns.heatmap(corr, cmap = 'Blues', annot = True);"
      ],
      "metadata": {
        "colab": {
          "base_uri": "https://localhost:8080/",
          "height": 462
        },
        "id": "wilQYLvTjiL4",
        "outputId": "146aeee3-b7ba-4ba5-d67f-078aa680fbf1"
      },
      "execution_count": 97,
      "outputs": [
        {
          "output_type": "display_data",
          "data": {
            "text/plain": [
              "<Figure size 576x396 with 2 Axes>"
            ],
            "image/png": "[encoded data removed]"
          },
          "metadata": {}
        }
      ]
    },
    {
      "cell_type": "markdown",
      "source": [
        "* Podemos observar que existe una correlacción positiva moderada entre el precio máximo de venta (Item_MRP y las ventas de los items en los Outles (Item_Outlet_Sales.)\n",
        "* También existe una relación negativa baja entre el año de establecimiento de los locales (Outlet_Establishment_Year) y el tamaño del Outlet (Outlet_Size), lo que nos podría indicar que los locales más grandes son los más antiguos y los nuevos tienen a ser más pequeños.\n",
        "* También existe una relación positiva entre los distintos tipos, localizaciones y tamaños de tienda, que podría resultar útil.\n",
        "* El resto de variables no tienen una relación que llame la atención."
      ],
      "metadata": {
        "id": "rhMHRLTylFdi"
      }
    },
    {
      "cell_type": "code",
      "source": [],
      "metadata": {
        "id": "3p9NBRiRkzgx"
      },
      "execution_count": null,
      "outputs": []
    }
  ]
}