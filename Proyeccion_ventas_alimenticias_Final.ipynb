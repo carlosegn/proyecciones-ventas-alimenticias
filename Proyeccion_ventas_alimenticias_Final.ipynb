{
  "nbformat": 4,
  "nbformat_minor": 0,
  "metadata": {
    "colab": {
      "provenance": [],
      "mount_file_id": "1QYbr3iHlVxgnpI2yELlHIsyly_IG56hM",
      "authorship_tag": "ABX9TyPhvM+uv7cLuTv5grfIV6OG",
      "include_colab_link": true
    },
    "kernelspec": {
      "name": "python3",
      "display_name": "Python 3"
    },
    "language_info": {
      "name": "python"
    }
  },
  "cells": [
    {
      "cell_type": "markdown",
      "metadata": {
        "id": "view-in-github",
        "colab_type": "text"
      },
      "source": [
        "<a href=\"https://colab.research.google.com/github/carlosegn/proyecciones-ventas-alimenticias/blob/main/Proyeccion_ventas_alimenticias_Final.ipynb\" target=\"_parent\"><img src=\"https://colab.research.google.com/assets/colab-badge.svg\" alt=\"Open In Colab\"/></a>"
      ]
    },
    {
      "cell_type": "markdown",
      "source": [
        "# **CODING DOJO: Proyecto de proyección de ventas alimenticias**\n",
        "## Creado por: Carlos Guerrero\n",
        "\n",
        "* Fecha creado: 25/03/2023\n",
        "* Fecha actualización: 25/03/2023\n",
        "* Descripción: Predicción de ventas para productos alimenticios vendidos en diversas tiendas con modelos de regresión lineal y árbol de regresión."
      ],
      "metadata": {
        "id": "WUsCzKWKQPG6"
      }
    },
    {
      "cell_type": "code",
      "execution_count": 1,
      "metadata": {
        "id": "ch5KQpTmQF0S"
      },
      "outputs": [],
      "source": [
        "# Importamos librerías\n",
        "import pandas as pd\n",
        "import numpy as np\n",
        "\n",
        "# Librerías de preprocesamiento\n",
        "from sklearn.preprocessing import OneHotEncoder\n",
        "from sklearn.impute import SimpleImputer\n",
        "from sklearn.compose import make_column_transformer, make_column_selector\n",
        "from sklearn.pipeline import make_pipeline\n",
        "from sklearn.model_selection import train_test_split\n",
        "\n",
        "# Librerias para predicciones\n",
        "from sklearn.linear_model import LinearRegression\n",
        "from sklearn.tree import DecisionTreeRegressor\n",
        "from sklearn.metrics import r2_score\n",
        "from sklearn.metrics import mean_squared_error\n",
        "\n",
        "# Salidas en modo texto para que se puedan ver en GitHub\n",
        "from sklearn import set_config\n",
        "set_config(display='text')"
      ]
    },
    {
      "cell_type": "code",
      "source": [
        "archivo = '/content/drive/MyDrive/CodingDojo/sales_predictions.csv'\n",
        "df = pd.read_csv(archivo)\n",
        "df.head()"
      ],
      "metadata": {
        "colab": {
          "base_uri": "https://localhost:8080/",
          "height": 357
        },
        "id": "t7OVtV0wQdgH",
        "outputId": "b91a01b6-49c9-431c-db53-0eab3a7b32ae"
      },
      "execution_count": 2,
      "outputs": [
        {
          "output_type": "execute_result",
          "data": {
            "text/plain": [
              "  Item_Identifier  Item_Weight Item_Fat_Content  Item_Visibility  \\\n",
              "0           FDA15         9.30          Low Fat         0.016047   \n",
              "1           DRC01         5.92          Regular         0.019278   \n",
              "2           FDN15        17.50          Low Fat         0.016760   \n",
              "3           FDX07        19.20          Regular         0.000000   \n",
              "4           NCD19         8.93          Low Fat         0.000000   \n",
              "\n",
              "               Item_Type  Item_MRP Outlet_Identifier  \\\n",
              "0                  Dairy  249.8092            OUT049   \n",
              "1            Soft Drinks   48.2692            OUT018   \n",
              "2                   Meat  141.6180            OUT049   \n",
              "3  Fruits and Vegetables  182.0950            OUT010   \n",
              "4              Household   53.8614            OUT013   \n",
              "\n",
              "   Outlet_Establishment_Year Outlet_Size Outlet_Location_Type  \\\n",
              "0                       1999      Medium               Tier 1   \n",
              "1                       2009      Medium               Tier 3   \n",
              "2                       1999      Medium               Tier 1   \n",
              "3                       1998         NaN               Tier 3   \n",
              "4                       1987        High               Tier 3   \n",
              "\n",
              "         Outlet_Type  Item_Outlet_Sales  \n",
              "0  Supermarket Type1          3735.1380  \n",
              "1  Supermarket Type2           443.4228  \n",
              "2  Supermarket Type1          2097.2700  \n",
              "3      Grocery Store           732.3800  \n",
              "4  Supermarket Type1           994.7052  "
            ],
            "text/html": [
              "\n",
              "  <div id=\"df-eaac16eb-5ca6-40dc-8ae5-c95fda3df9fd\">\n",
              "    <div class=\"colab-df-container\">\n",
              "      <div>\n",
              "<style scoped>\n",
              "    .dataframe tbody tr th:only-of-type {\n",
              "        vertical-align: middle;\n",
              "    }\n",
              "\n",
              "    .dataframe tbody tr th {\n",
              "        vertical-align: top;\n",
              "    }\n",
              "\n",
              "    .dataframe thead th {\n",
              "        text-align: right;\n",
              "    }\n",
              "</style>\n",
              "<table border=\"1\" class=\"dataframe\">\n",
              "  <thead>\n",
              "    <tr style=\"text-align: right;\">\n",
              "      <th></th>\n",
              "      <th>Item_Identifier</th>\n",
              "      <th>Item_Weight</th>\n",
              "      <th>Item_Fat_Content</th>\n",
              "      <th>Item_Visibility</th>\n",
              "      <th>Item_Type</th>\n",
              "      <th>Item_MRP</th>\n",
              "      <th>Outlet_Identifier</th>\n",
              "      <th>Outlet_Establishment_Year</th>\n",
              "      <th>Outlet_Size</th>\n",
              "      <th>Outlet_Location_Type</th>\n",
              "      <th>Outlet_Type</th>\n",
              "      <th>Item_Outlet_Sales</th>\n",
              "    </tr>\n",
              "  </thead>\n",
              "  <tbody>\n",
              "    <tr>\n",
              "      <th>0</th>\n",
              "      <td>FDA15</td>\n",
              "      <td>9.30</td>\n",
              "      <td>Low Fat</td>\n",
              "      <td>0.016047</td>\n",
              "      <td>Dairy</td>\n",
              "      <td>249.8092</td>\n",
              "      <td>OUT049</td>\n",
              "      <td>1999</td>\n",
              "      <td>Medium</td>\n",
              "      <td>Tier 1</td>\n",
              "      <td>Supermarket Type1</td>\n",
              "      <td>3735.1380</td>\n",
              "    </tr>\n",
              "    <tr>\n",
              "      <th>1</th>\n",
              "      <td>DRC01</td>\n",
              "      <td>5.92</td>\n",
              "      <td>Regular</td>\n",
              "      <td>0.019278</td>\n",
              "      <td>Soft Drinks</td>\n",
              "      <td>48.2692</td>\n",
              "      <td>OUT018</td>\n",
              "      <td>2009</td>\n",
              "      <td>Medium</td>\n",
              "      <td>Tier 3</td>\n",
              "      <td>Supermarket Type2</td>\n",
              "      <td>443.4228</td>\n",
              "    </tr>\n",
              "    <tr>\n",
              "      <th>2</th>\n",
              "      <td>FDN15</td>\n",
              "      <td>17.50</td>\n",
              "      <td>Low Fat</td>\n",
              "      <td>0.016760</td>\n",
              "      <td>Meat</td>\n",
              "      <td>141.6180</td>\n",
              "      <td>OUT049</td>\n",
              "      <td>1999</td>\n",
              "      <td>Medium</td>\n",
              "      <td>Tier 1</td>\n",
              "      <td>Supermarket Type1</td>\n",
              "      <td>2097.2700</td>\n",
              "    </tr>\n",
              "    <tr>\n",
              "      <th>3</th>\n",
              "      <td>FDX07</td>\n",
              "      <td>19.20</td>\n",
              "      <td>Regular</td>\n",
              "      <td>0.000000</td>\n",
              "      <td>Fruits and Vegetables</td>\n",
              "      <td>182.0950</td>\n",
              "      <td>OUT010</td>\n",
              "      <td>1998</td>\n",
              "      <td>NaN</td>\n",
              "      <td>Tier 3</td>\n",
              "      <td>Grocery Store</td>\n",
              "      <td>732.3800</td>\n",
              "    </tr>\n",
              "    <tr>\n",
              "      <th>4</th>\n",
              "      <td>NCD19</td>\n",
              "      <td>8.93</td>\n",
              "      <td>Low Fat</td>\n",
              "      <td>0.000000</td>\n",
              "      <td>Household</td>\n",
              "      <td>53.8614</td>\n",
              "      <td>OUT013</td>\n",
              "      <td>1987</td>\n",
              "      <td>High</td>\n",
              "      <td>Tier 3</td>\n",
              "      <td>Supermarket Type1</td>\n",
              "      <td>994.7052</td>\n",
              "    </tr>\n",
              "  </tbody>\n",
              "</table>\n",
              "</div>\n",
              "      <button class=\"colab-df-convert\" onclick=\"convertToInteractive('df-eaac16eb-5ca6-40dc-8ae5-c95fda3df9fd')\"\n",
              "              title=\"Convert this dataframe to an interactive table.\"\n",
              "              style=\"display:none;\">\n",
              "        \n",
              "  <svg xmlns=\"http://www.w3.org/2000/svg\" height=\"24px\"viewBox=\"0 0 24 24\"\n",
              "       width=\"24px\">\n",
              "    <path d=\"M0 0h24v24H0V0z\" fill=\"none\"/>\n",
              "    <path d=\"M18.56 5.44l.94 2.06.94-2.06 2.06-.94-2.06-.94-.94-2.06-.94 2.06-2.06.94zm-11 1L8.5 8.5l.94-2.06 2.06-.94-2.06-.94L8.5 2.5l-.94 2.06-2.06.94zm10 10l.94 2.06.94-2.06 2.06-.94-2.06-.94-.94-2.06-.94 2.06-2.06.94z\"/><path d=\"M17.41 7.96l-1.37-1.37c-.4-.4-.92-.59-1.43-.59-.52 0-1.04.2-1.43.59L10.3 9.45l-7.72 7.72c-.78.78-.78 2.05 0 2.83L4 21.41c.39.39.9.59 1.41.59.51 0 1.02-.2 1.41-.59l7.78-7.78 2.81-2.81c.8-.78.8-2.07 0-2.86zM5.41 20L4 18.59l7.72-7.72 1.47 1.35L5.41 20z\"/>\n",
              "  </svg>\n",
              "      </button>\n",
              "      \n",
              "  <style>\n",
              "    .colab-df-container {\n",
              "      display:flex;\n",
              "      flex-wrap:wrap;\n",
              "      gap: 12px;\n",
              "    }\n",
              "\n",
              "    .colab-df-convert {\n",
              "      background-color: #E8F0FE;\n",
              "      border: none;\n",
              "      border-radius: 50%;\n",
              "      cursor: pointer;\n",
              "      display: none;\n",
              "      fill: #1967D2;\n",
              "      height: 32px;\n",
              "      padding: 0 0 0 0;\n",
              "      width: 32px;\n",
              "    }\n",
              "\n",
              "    .colab-df-convert:hover {\n",
              "      background-color: #E2EBFA;\n",
              "      box-shadow: 0px 1px 2px rgba(60, 64, 67, 0.3), 0px 1px 3px 1px rgba(60, 64, 67, 0.15);\n",
              "      fill: #174EA6;\n",
              "    }\n",
              "\n",
              "    [theme=dark] .colab-df-convert {\n",
              "      background-color: #3B4455;\n",
              "      fill: #D2E3FC;\n",
              "    }\n",
              "\n",
              "    [theme=dark] .colab-df-convert:hover {\n",
              "      background-color: #434B5C;\n",
              "      box-shadow: 0px 1px 3px 1px rgba(0, 0, 0, 0.15);\n",
              "      filter: drop-shadow(0px 1px 2px rgba(0, 0, 0, 0.3));\n",
              "      fill: #FFFFFF;\n",
              "    }\n",
              "  </style>\n",
              "\n",
              "      <script>\n",
              "        const buttonEl =\n",
              "          document.querySelector('#df-eaac16eb-5ca6-40dc-8ae5-c95fda3df9fd button.colab-df-convert');\n",
              "        buttonEl.style.display =\n",
              "          google.colab.kernel.accessAllowed ? 'block' : 'none';\n",
              "\n",
              "        async function convertToInteractive(key) {\n",
              "          const element = document.querySelector('#df-eaac16eb-5ca6-40dc-8ae5-c95fda3df9fd');\n",
              "          const dataTable =\n",
              "            await google.colab.kernel.invokeFunction('convertToInteractive',\n",
              "                                                     [key], {});\n",
              "          if (!dataTable) return;\n",
              "\n",
              "          const docLinkHtml = 'Like what you see? Visit the ' +\n",
              "            '<a target=\"_blank\" href=https://colab.research.google.com/notebooks/data_table.ipynb>data table notebook</a>'\n",
              "            + ' to learn more about interactive tables.';\n",
              "          element.innerHTML = '';\n",
              "          dataTable['output_type'] = 'display_data';\n",
              "          await google.colab.output.renderOutput(dataTable, element);\n",
              "          const docLink = document.createElement('div');\n",
              "          docLink.innerHTML = docLinkHtml;\n",
              "          element.appendChild(docLink);\n",
              "        }\n",
              "      </script>\n",
              "    </div>\n",
              "  </div>\n",
              "  "
            ]
          },
          "metadata": {},
          "execution_count": 2
        }
      ]
    },
    {
      "cell_type": "markdown",
      "source": [
        "## Exploración y limpieza de datos"
      ],
      "metadata": {
        "id": "z3HdzL2URI5L"
      }
    },
    {
      "cell_type": "code",
      "source": [
        "# Limpieza de duplicados\n",
        "df.duplicated().sum()"
      ],
      "metadata": {
        "colab": {
          "base_uri": "https://localhost:8080/"
        },
        "id": "SkAgK7yIRRcb",
        "outputId": "3639bf4d-b560-440a-e229-570136ea5361"
      },
      "execution_count": 3,
      "outputs": [
        {
          "output_type": "execute_result",
          "data": {
            "text/plain": [
              "0"
            ]
          },
          "metadata": {},
          "execution_count": 3
        }
      ]
    },
    {
      "cell_type": "markdown",
      "source": [
        "No existen valores duplicados"
      ],
      "metadata": {
        "id": "mhVnUdowRUfF"
      }
    },
    {
      "cell_type": "code",
      "source": [
        "# Información de la base\n",
        "df.info()"
      ],
      "metadata": {
        "colab": {
          "base_uri": "https://localhost:8080/"
        },
        "id": "DhciLGRUQk7j",
        "outputId": "d459edec-5cef-470a-f063-bff82f0f86c0"
      },
      "execution_count": 4,
      "outputs": [
        {
          "output_type": "stream",
          "name": "stdout",
          "text": [
            "<class 'pandas.core.frame.DataFrame'>\n",
            "RangeIndex: 8523 entries, 0 to 8522\n",
            "Data columns (total 12 columns):\n",
            " #   Column                     Non-Null Count  Dtype  \n",
            "---  ------                     --------------  -----  \n",
            " 0   Item_Identifier            8523 non-null   object \n",
            " 1   Item_Weight                7060 non-null   float64\n",
            " 2   Item_Fat_Content           8523 non-null   object \n",
            " 3   Item_Visibility            8523 non-null   float64\n",
            " 4   Item_Type                  8523 non-null   object \n",
            " 5   Item_MRP                   8523 non-null   float64\n",
            " 6   Outlet_Identifier          8523 non-null   object \n",
            " 7   Outlet_Establishment_Year  8523 non-null   int64  \n",
            " 8   Outlet_Size                6113 non-null   object \n",
            " 9   Outlet_Location_Type       8523 non-null   object \n",
            " 10  Outlet_Type                8523 non-null   object \n",
            " 11  Item_Outlet_Sales          8523 non-null   float64\n",
            "dtypes: float64(4), int64(1), object(7)\n",
            "memory usage: 799.2+ KB\n"
          ]
        }
      ]
    },
    {
      "cell_type": "markdown",
      "source": [
        "Se observan varios registros faltantes en las variables de peso del producto (Item_Weight) y tamaño de la tienda (Outlet_Size)"
      ],
      "metadata": {
        "id": "WswGTG9MRsVA"
      }
    },
    {
      "cell_type": "code",
      "source": [
        "# Analizar variable Outlet_Size\n",
        "df['Outlet_Size'].value_counts()"
      ],
      "metadata": {
        "colab": {
          "base_uri": "https://localhost:8080/"
        },
        "id": "7C7kTOMIRZTm",
        "outputId": "05f751e4-97d3-44d3-9ff3-46658490108f"
      },
      "execution_count": 5,
      "outputs": [
        {
          "output_type": "execute_result",
          "data": {
            "text/plain": [
              "Medium    2793\n",
              "Small     2388\n",
              "High       932\n",
              "Name: Outlet_Size, dtype: int64"
            ]
          },
          "metadata": {},
          "execution_count": 5
        }
      ]
    },
    {
      "cell_type": "code",
      "source": [
        "num_missing = df['Outlet_Size'].isna().sum()\n",
        "\n",
        "total_rows = df.shape[0]\n",
        "\n",
        "percent_missing = (num_missing / total_rows)*100\n",
        "print(f'{percent_missing:.2f}% de los valores son nulos')"
      ],
      "metadata": {
        "colab": {
          "base_uri": "https://localhost:8080/"
        },
        "id": "yEK4kK-qSEN2",
        "outputId": "75000bd4-b3f6-4145-85d5-35a1c3d0e6a1"
      },
      "execution_count": 6,
      "outputs": [
        {
          "output_type": "stream",
          "name": "stdout",
          "text": [
            "28.28% de los valores son nulos\n"
          ]
        }
      ]
    },
    {
      "cell_type": "markdown",
      "source": [
        "Observamos que casi el 30% de los valores de la variable Outlet_Size son nulos, y es una variable categórica que sólo tiene 3 valores (Medium, Small o High) por lo que imputar un valor por frecuencia o con una constante ingresaría muchos errores a nuestro análisis, por lo que lo mejor es eliminar dicha columna."
      ],
      "metadata": {
        "id": "GBUGykNpSz7M"
      }
    },
    {
      "cell_type": "code",
      "source": [
        "df = df.drop(columns='Outlet_Size')\n",
        "df.head(1)"
      ],
      "metadata": {
        "colab": {
          "base_uri": "https://localhost:8080/",
          "height": 142
        },
        "id": "EKbQPX4xSiE1",
        "outputId": "520ad784-35eb-48a6-dcf3-8252bd09e80d"
      },
      "execution_count": 7,
      "outputs": [
        {
          "output_type": "execute_result",
          "data": {
            "text/plain": [
              "  Item_Identifier  Item_Weight Item_Fat_Content  Item_Visibility Item_Type  \\\n",
              "0           FDA15          9.3          Low Fat         0.016047     Dairy   \n",
              "\n",
              "   Item_MRP Outlet_Identifier  Outlet_Establishment_Year Outlet_Location_Type  \\\n",
              "0  249.8092            OUT049                       1999               Tier 1   \n",
              "\n",
              "         Outlet_Type  Item_Outlet_Sales  \n",
              "0  Supermarket Type1           3735.138  "
            ],
            "text/html": [
              "\n",
              "  <div id=\"df-f5fee8a1-7a2c-4e49-868a-41336317fecf\">\n",
              "    <div class=\"colab-df-container\">\n",
              "      <div>\n",
              "<style scoped>\n",
              "    .dataframe tbody tr th:only-of-type {\n",
              "        vertical-align: middle;\n",
              "    }\n",
              "\n",
              "    .dataframe tbody tr th {\n",
              "        vertical-align: top;\n",
              "    }\n",
              "\n",
              "    .dataframe thead th {\n",
              "        text-align: right;\n",
              "    }\n",
              "</style>\n",
              "<table border=\"1\" class=\"dataframe\">\n",
              "  <thead>\n",
              "    <tr style=\"text-align: right;\">\n",
              "      <th></th>\n",
              "      <th>Item_Identifier</th>\n",
              "      <th>Item_Weight</th>\n",
              "      <th>Item_Fat_Content</th>\n",
              "      <th>Item_Visibility</th>\n",
              "      <th>Item_Type</th>\n",
              "      <th>Item_MRP</th>\n",
              "      <th>Outlet_Identifier</th>\n",
              "      <th>Outlet_Establishment_Year</th>\n",
              "      <th>Outlet_Location_Type</th>\n",
              "      <th>Outlet_Type</th>\n",
              "      <th>Item_Outlet_Sales</th>\n",
              "    </tr>\n",
              "  </thead>\n",
              "  <tbody>\n",
              "    <tr>\n",
              "      <th>0</th>\n",
              "      <td>FDA15</td>\n",
              "      <td>9.3</td>\n",
              "      <td>Low Fat</td>\n",
              "      <td>0.016047</td>\n",
              "      <td>Dairy</td>\n",
              "      <td>249.8092</td>\n",
              "      <td>OUT049</td>\n",
              "      <td>1999</td>\n",
              "      <td>Tier 1</td>\n",
              "      <td>Supermarket Type1</td>\n",
              "      <td>3735.138</td>\n",
              "    </tr>\n",
              "  </tbody>\n",
              "</table>\n",
              "</div>\n",
              "      <button class=\"colab-df-convert\" onclick=\"convertToInteractive('df-f5fee8a1-7a2c-4e49-868a-41336317fecf')\"\n",
              "              title=\"Convert this dataframe to an interactive table.\"\n",
              "              style=\"display:none;\">\n",
              "        \n",
              "  <svg xmlns=\"http://www.w3.org/2000/svg\" height=\"24px\"viewBox=\"0 0 24 24\"\n",
              "       width=\"24px\">\n",
              "    <path d=\"M0 0h24v24H0V0z\" fill=\"none\"/>\n",
              "    <path d=\"M18.56 5.44l.94 2.06.94-2.06 2.06-.94-2.06-.94-.94-2.06-.94 2.06-2.06.94zm-11 1L8.5 8.5l.94-2.06 2.06-.94-2.06-.94L8.5 2.5l-.94 2.06-2.06.94zm10 10l.94 2.06.94-2.06 2.06-.94-2.06-.94-.94-2.06-.94 2.06-2.06.94z\"/><path d=\"M17.41 7.96l-1.37-1.37c-.4-.4-.92-.59-1.43-.59-.52 0-1.04.2-1.43.59L10.3 9.45l-7.72 7.72c-.78.78-.78 2.05 0 2.83L4 21.41c.39.39.9.59 1.41.59.51 0 1.02-.2 1.41-.59l7.78-7.78 2.81-2.81c.8-.78.8-2.07 0-2.86zM5.41 20L4 18.59l7.72-7.72 1.47 1.35L5.41 20z\"/>\n",
              "  </svg>\n",
              "      </button>\n",
              "      \n",
              "  <style>\n",
              "    .colab-df-container {\n",
              "      display:flex;\n",
              "      flex-wrap:wrap;\n",
              "      gap: 12px;\n",
              "    }\n",
              "\n",
              "    .colab-df-convert {\n",
              "      background-color: #E8F0FE;\n",
              "      border: none;\n",
              "      border-radius: 50%;\n",
              "      cursor: pointer;\n",
              "      display: none;\n",
              "      fill: #1967D2;\n",
              "      height: 32px;\n",
              "      padding: 0 0 0 0;\n",
              "      width: 32px;\n",
              "    }\n",
              "\n",
              "    .colab-df-convert:hover {\n",
              "      background-color: #E2EBFA;\n",
              "      box-shadow: 0px 1px 2px rgba(60, 64, 67, 0.3), 0px 1px 3px 1px rgba(60, 64, 67, 0.15);\n",
              "      fill: #174EA6;\n",
              "    }\n",
              "\n",
              "    [theme=dark] .colab-df-convert {\n",
              "      background-color: #3B4455;\n",
              "      fill: #D2E3FC;\n",
              "    }\n",
              "\n",
              "    [theme=dark] .colab-df-convert:hover {\n",
              "      background-color: #434B5C;\n",
              "      box-shadow: 0px 1px 3px 1px rgba(0, 0, 0, 0.15);\n",
              "      filter: drop-shadow(0px 1px 2px rgba(0, 0, 0, 0.3));\n",
              "      fill: #FFFFFF;\n",
              "    }\n",
              "  </style>\n",
              "\n",
              "      <script>\n",
              "        const buttonEl =\n",
              "          document.querySelector('#df-f5fee8a1-7a2c-4e49-868a-41336317fecf button.colab-df-convert');\n",
              "        buttonEl.style.display =\n",
              "          google.colab.kernel.accessAllowed ? 'block' : 'none';\n",
              "\n",
              "        async function convertToInteractive(key) {\n",
              "          const element = document.querySelector('#df-f5fee8a1-7a2c-4e49-868a-41336317fecf');\n",
              "          const dataTable =\n",
              "            await google.colab.kernel.invokeFunction('convertToInteractive',\n",
              "                                                     [key], {});\n",
              "          if (!dataTable) return;\n",
              "\n",
              "          const docLinkHtml = 'Like what you see? Visit the ' +\n",
              "            '<a target=\"_blank\" href=https://colab.research.google.com/notebooks/data_table.ipynb>data table notebook</a>'\n",
              "            + ' to learn more about interactive tables.';\n",
              "          element.innerHTML = '';\n",
              "          dataTable['output_type'] = 'display_data';\n",
              "          await google.colab.output.renderOutput(dataTable, element);\n",
              "          const docLink = document.createElement('div');\n",
              "          docLink.innerHTML = docLinkHtml;\n",
              "          element.appendChild(docLink);\n",
              "        }\n",
              "      </script>\n",
              "    </div>\n",
              "  </div>\n",
              "  "
            ]
          },
          "metadata": {},
          "execution_count": 7
        }
      ]
    },
    {
      "cell_type": "code",
      "source": [
        "# Análisis de la variable Item_Weight\n",
        "# Relación entre Item_Weight e Item_Identifier\n",
        "df.groupby(['Item_Identifier'])['Item_Weight'].value_counts()"
      ],
      "metadata": {
        "colab": {
          "base_uri": "https://localhost:8080/"
        },
        "id": "A1LUkeEHTk_m",
        "outputId": "33c7c374-cb21-4339-e01e-c0122ad0b775"
      },
      "execution_count": 8,
      "outputs": [
        {
          "output_type": "execute_result",
          "data": {
            "text/plain": [
              "Item_Identifier  Item_Weight\n",
              "DRA12            11.600         6\n",
              "DRA24            19.350         5\n",
              "DRA59            8.270          6\n",
              "DRB01            7.390          2\n",
              "DRB13            6.115          5\n",
              "                               ..\n",
              "NCZ30            6.590          6\n",
              "NCZ41            19.850         5\n",
              "NCZ42            10.500         5\n",
              "NCZ53            9.600          4\n",
              "NCZ54            14.650         5\n",
              "Name: Item_Weight, Length: 1555, dtype: int64"
            ]
          },
          "metadata": {},
          "execution_count": 8
        }
      ]
    },
    {
      "cell_type": "code",
      "source": [
        "df['Item_Identifier'].nunique()"
      ],
      "metadata": {
        "colab": {
          "base_uri": "https://localhost:8080/"
        },
        "id": "KYUhn4-OVRMV",
        "outputId": "2217b222-345c-450a-8679-8f96c0aca25b"
      },
      "execution_count": 9,
      "outputs": [
        {
          "output_type": "execute_result",
          "data": {
            "text/plain": [
              "1559"
            ]
          },
          "metadata": {},
          "execution_count": 9
        }
      ]
    },
    {
      "cell_type": "markdown",
      "source": [
        "De acuerdo a los datos, todos los Item_Identifier se corresponden con un Item_Weight, por lo que podríamos imputar los valores faltantes en Item_Weight consultando los valores de Item_Identifier e imputando un valor conocido que se obtenga de otro registro, existen 1555 registros de Item_Weight agrupados por Item_Identifier vs 1559 registro de Item_Idenfier, lo que nos quiere decir que hay 4 Items que no tienen peso registrado."
      ],
      "metadata": {
        "id": "y59PKkAiXd8g"
      }
    },
    {
      "cell_type": "code",
      "source": [
        "# Obtener los Item_Identifier con valores de Item_Weight NaN\n",
        "filtro_item_weight = df['Item_Weight'].isna()\n",
        "df[filtro_item_weight]['Item_Identifier']"
      ],
      "metadata": {
        "colab": {
          "base_uri": "https://localhost:8080/"
        },
        "id": "_NMpRZlwVfcG",
        "outputId": "af31e11b-4496-4539-9558-038436f7f902"
      },
      "execution_count": 10,
      "outputs": [
        {
          "output_type": "execute_result",
          "data": {
            "text/plain": [
              "7       FDP10\n",
              "18      DRI11\n",
              "21      FDW12\n",
              "23      FDC37\n",
              "29      FDC14\n",
              "        ...  \n",
              "8485    DRK37\n",
              "8487    DRG13\n",
              "8488    NCN14\n",
              "8490    FDU44\n",
              "8504    NCN18\n",
              "Name: Item_Identifier, Length: 1463, dtype: object"
            ]
          },
          "metadata": {},
          "execution_count": 10
        }
      ]
    },
    {
      "cell_type": "code",
      "source": [
        "# Iteramos por la serie de valores que tienen un valor NaN en Item_Weight\n",
        "for index, value in df[filtro_item_weight]['Item_Identifier'].iteritems():\n",
        "  \n",
        "  # Creamos un filtro para cada valor de Item_Identifier\n",
        "  filtro_id = df['Item_Identifier'] == value\n",
        "\n",
        "  # Guardamos el peso máximo para ese Item_Identifier, funciona con mean() o min() también ya que son valores únicos\n",
        "  peso = df[filtro_id]['Item_Weight'].max()\n",
        "\n",
        "  # Cambiamos el valor en el indice obtenido de la serie y en el atributo Item_Weight\n",
        "  df.at[index, 'Item_Weight'] = peso"
      ],
      "metadata": {
        "id": "41rtiICaX8D3"
      },
      "execution_count": 11,
      "outputs": []
    },
    {
      "cell_type": "code",
      "source": [
        "# Confirmamos si quedan valores nulos\n",
        "df.isna().sum()"
      ],
      "metadata": {
        "colab": {
          "base_uri": "https://localhost:8080/"
        },
        "id": "WDhBq7ETYGGP",
        "outputId": "b8ca4ce0-2f41-4bfb-b959-8eef42ddca9f"
      },
      "execution_count": 12,
      "outputs": [
        {
          "output_type": "execute_result",
          "data": {
            "text/plain": [
              "Item_Identifier              0\n",
              "Item_Weight                  4\n",
              "Item_Fat_Content             0\n",
              "Item_Visibility              0\n",
              "Item_Type                    0\n",
              "Item_MRP                     0\n",
              "Outlet_Identifier            0\n",
              "Outlet_Establishment_Year    0\n",
              "Outlet_Location_Type         0\n",
              "Outlet_Type                  0\n",
              "Item_Outlet_Sales            0\n",
              "dtype: int64"
            ]
          },
          "metadata": {},
          "execution_count": 12
        }
      ]
    },
    {
      "cell_type": "markdown",
      "source": [
        "Confirmamos que quedan sólo 4 registros con valores nulos lo cual confirma el análisis anterior. A estos 4 registros podemos imputar un valor de media con SimpleImputer."
      ],
      "metadata": {
        "id": "qXuYaC5nYLdP"
      }
    },
    {
      "cell_type": "code",
      "source": [
        "# Revisar categorías en valores Item_Fat_Content\n",
        "df['Item_Fat_Content'].value_counts()"
      ],
      "metadata": {
        "colab": {
          "base_uri": "https://localhost:8080/"
        },
        "id": "P3lWgjqGbdsF",
        "outputId": "b4aa43bc-5f89-41be-bb29-21baf8a85fc0"
      },
      "execution_count": 13,
      "outputs": [
        {
          "output_type": "execute_result",
          "data": {
            "text/plain": [
              "Low Fat    5089\n",
              "Regular    2889\n",
              "LF          316\n",
              "reg         117\n",
              "low fat     112\n",
              "Name: Item_Fat_Content, dtype: int64"
            ]
          },
          "metadata": {},
          "execution_count": 13
        }
      ]
    },
    {
      "cell_type": "code",
      "source": [
        "df['Item_Fat_Content'].replace({'LF': 'Low Fat', 'reg': 'Regular', 'low fat': 'Low Fat'}, inplace=True)\n",
        "df['Item_Fat_Content'].value_counts()"
      ],
      "metadata": {
        "colab": {
          "base_uri": "https://localhost:8080/"
        },
        "id": "uJslyp8-b2_E",
        "outputId": "ddbdc107-8488-4bc4-c2a2-c093c8f18310"
      },
      "execution_count": 14,
      "outputs": [
        {
          "output_type": "execute_result",
          "data": {
            "text/plain": [
              "Low Fat    5517\n",
              "Regular    3006\n",
              "Name: Item_Fat_Content, dtype: int64"
            ]
          },
          "metadata": {},
          "execution_count": 14
        }
      ]
    },
    {
      "cell_type": "markdown",
      "source": [
        "## Preparar los datos para aprendizaje automático"
      ],
      "metadata": {
        "id": "d0-liaI5ZaoF"
      }
    },
    {
      "cell_type": "code",
      "source": [
        "# El objetivo es Item_Outlet_Sales\n",
        "y = df['Item_Outlet_Sales']\n",
        "\n",
        "# En las características quitaremos las columnas de Item_Identifier y Outlet_Identifier \n",
        "# ya que sólo son identificadores de los items y las tiendas y no ayudan al análisis de predicción de ventas\n",
        "X = df.drop(columns=['Item_Outlet_Sales', 'Item_Identifier', 'Outlet_Identifier'])"
      ],
      "metadata": {
        "id": "V3SkimG1Y0Yp"
      },
      "execution_count": 15,
      "outputs": []
    },
    {
      "cell_type": "code",
      "source": [
        "# Realizamos un Train Test Split\n",
        "X_train, X_test, y_train, y_test = train_test_split(X, y, random_state=42)"
      ],
      "metadata": {
        "id": "VtURl96haT6n"
      },
      "execution_count": 16,
      "outputs": []
    },
    {
      "cell_type": "code",
      "source": [
        "X_train.info()"
      ],
      "metadata": {
        "colab": {
          "base_uri": "https://localhost:8080/"
        },
        "id": "FuLKojT_aVC2",
        "outputId": "223a6b15-50de-496a-f919-fbb6b5e7f9fa"
      },
      "execution_count": 17,
      "outputs": [
        {
          "output_type": "stream",
          "name": "stdout",
          "text": [
            "<class 'pandas.core.frame.DataFrame'>\n",
            "Int64Index: 6392 entries, 4776 to 7270\n",
            "Data columns (total 8 columns):\n",
            " #   Column                     Non-Null Count  Dtype  \n",
            "---  ------                     --------------  -----  \n",
            " 0   Item_Weight                6390 non-null   float64\n",
            " 1   Item_Fat_Content           6392 non-null   object \n",
            " 2   Item_Visibility            6392 non-null   float64\n",
            " 3   Item_Type                  6392 non-null   object \n",
            " 4   Item_MRP                   6392 non-null   float64\n",
            " 5   Outlet_Establishment_Year  6392 non-null   int64  \n",
            " 6   Outlet_Location_Type       6392 non-null   object \n",
            " 7   Outlet_Type                6392 non-null   object \n",
            "dtypes: float64(3), int64(1), object(4)\n",
            "memory usage: 449.4+ KB\n"
          ]
        }
      ]
    },
    {
      "cell_type": "code",
      "source": [
        "# Selectores de columnas numéricas y categóricas\n",
        "cat_selector = make_column_selector(dtype_include='object')\n",
        "num_selector = make_column_selector(dtype_include='number')"
      ],
      "metadata": {
        "id": "j2gVNr3fcR73"
      },
      "execution_count": 18,
      "outputs": []
    },
    {
      "cell_type": "code",
      "source": [
        "# Instanciar SimpleImputer\n",
        "mean_imputer = SimpleImputer(strategy='mean')\n",
        "\n",
        "# Instanciar OneHotEncoder\n",
        "ohe = OneHotEncoder(handle_unknown='ignore', sparse_output=False)"
      ],
      "metadata": {
        "id": "tP8qSYG5cjz2"
      },
      "execution_count": 19,
      "outputs": []
    },
    {
      "cell_type": "code",
      "source": [
        "# Instanciar pipeline para valores numéricos\n",
        "# Sólo vamos a imputar la media en los datos faltantes\n",
        "numeric_pipe = make_pipeline(mean_imputer)\n",
        "numeric_pipe"
      ],
      "metadata": {
        "colab": {
          "base_uri": "https://localhost:8080/"
        },
        "id": "Lt8kOWrWc2gW",
        "outputId": "492e208d-7d97-442f-c47f-8a7dde75b463"
      },
      "execution_count": 20,
      "outputs": [
        {
          "output_type": "execute_result",
          "data": {
            "text/plain": [
              "Pipeline(steps=[('simpleimputer', SimpleImputer())])"
            ]
          },
          "metadata": {},
          "execution_count": 20
        }
      ]
    },
    {
      "cell_type": "code",
      "source": [
        "# Instanciar pipeline para valores nominales (categóricos)\n",
        "# Solo codificamos con OneHotEncoder no tenemos valores a imputar\n",
        "categorical_pipe = make_pipeline(ohe)\n",
        "categorical_pipe"
      ],
      "metadata": {
        "colab": {
          "base_uri": "https://localhost:8080/"
        },
        "id": "EPeCliUfc6YP",
        "outputId": "a174242b-2f11-4d98-fd5e-6e017884fe95"
      },
      "execution_count": 21,
      "outputs": [
        {
          "output_type": "execute_result",
          "data": {
            "text/plain": [
              "Pipeline(steps=[('onehotencoder',\n",
              "                 OneHotEncoder(handle_unknown='ignore', sparse_output=False))])"
            ]
          },
          "metadata": {},
          "execution_count": 21
        }
      ]
    },
    {
      "cell_type": "code",
      "source": [
        "# Creamos tuplas que seran utilizadas por ColumnTransformer\n",
        "# Cada tupla tiene el pipeline y el respectivo selector\n",
        "number_tuple = (numeric_pipe, num_selector)\n",
        "category_tuple = (categorical_pipe, cat_selector)\n",
        "\n",
        "# Instanciamos ColumnTransformer\n",
        "preprocessor = make_column_transformer(number_tuple, category_tuple)\n",
        "preprocessor"
      ],
      "metadata": {
        "colab": {
          "base_uri": "https://localhost:8080/"
        },
        "id": "kgpt4638dBd-",
        "outputId": "af2d5306-75ad-427f-d675-fe192457d4d1"
      },
      "execution_count": 22,
      "outputs": [
        {
          "output_type": "execute_result",
          "data": {
            "text/plain": [
              "ColumnTransformer(transformers=[('pipeline-1',\n",
              "                                 Pipeline(steps=[('simpleimputer',\n",
              "                                                  SimpleImputer())]),\n",
              "                                 <sklearn.compose._column_transformer.make_column_selector object at 0x7f46951adcd0>),\n",
              "                                ('pipeline-2',\n",
              "                                 Pipeline(steps=[('onehotencoder',\n",
              "                                                  OneHotEncoder(handle_unknown='ignore',\n",
              "                                                                sparse_output=False))]),\n",
              "                                 <sklearn.compose._column_transformer.make_column_selector object at 0x7f46951adbb0>)])"
            ]
          },
          "metadata": {},
          "execution_count": 22
        }
      ]
    },
    {
      "cell_type": "code",
      "source": [
        "# Ajustamos con los valores de entrenamiento\n",
        "preprocessor.fit(X_train)"
      ],
      "metadata": {
        "colab": {
          "base_uri": "https://localhost:8080/"
        },
        "id": "HMg6lWG0dJMv",
        "outputId": "afd70ccb-7d72-42cf-efba-60103d71cffa"
      },
      "execution_count": 23,
      "outputs": [
        {
          "output_type": "execute_result",
          "data": {
            "text/plain": [
              "ColumnTransformer(transformers=[('pipeline-1',\n",
              "                                 Pipeline(steps=[('simpleimputer',\n",
              "                                                  SimpleImputer())]),\n",
              "                                 <sklearn.compose._column_transformer.make_column_selector object at 0x7f46951adcd0>),\n",
              "                                ('pipeline-2',\n",
              "                                 Pipeline(steps=[('onehotencoder',\n",
              "                                                  OneHotEncoder(handle_unknown='ignore',\n",
              "                                                                sparse_output=False))]),\n",
              "                                 <sklearn.compose._column_transformer.make_column_selector object at 0x7f46951adbb0>)])"
            ]
          },
          "metadata": {},
          "execution_count": 23
        }
      ]
    },
    {
      "cell_type": "code",
      "source": [
        "# Transformamos los datos de entrenamiento y prueba\n",
        "X_train_processed = preprocessor.transform(X_train)\n",
        "X_test_processed = preprocessor.transform(X_test)"
      ],
      "metadata": {
        "id": "P5s2bp7UdPu3"
      },
      "execution_count": 24,
      "outputs": []
    },
    {
      "cell_type": "code",
      "source": [
        "# Volvemos a crear un DataFrame de Pandas\n",
        "# Obtenemos los nombres de las columnas con el método get_feature_names_out de ColumnTransformer\n",
        "columnas = preprocessor.get_feature_names_out()\n",
        "\n",
        "X_train = pd.DataFrame(X_train_processed, columns=columnas)\n",
        "X_test = pd.DataFrame(X_test_processed, columns=columnas)"
      ],
      "metadata": {
        "id": "RUPP9GVfNm_w"
      },
      "execution_count": 27,
      "outputs": []
    },
    {
      "cell_type": "code",
      "source": [
        "# Confirmamos que tenemos de nuevo un DataFrame\n",
        "X_train.head(2)"
      ],
      "metadata": {
        "colab": {
          "base_uri": "https://localhost:8080/",
          "height": 240
        },
        "id": "WJYXQqo3dSzg",
        "outputId": "075d8a19-b9fa-4bf9-9350-7857a2ae002d"
      },
      "execution_count": 31,
      "outputs": [
        {
          "output_type": "execute_result",
          "data": {
            "text/plain": [
              "   pipeline-1__Item_Weight  pipeline-1__Item_Visibility  pipeline-1__Item_MRP  \\\n",
              "0                    16.35                     0.029565              256.4646   \n",
              "1                    15.25                     0.000000              179.7660   \n",
              "\n",
              "   pipeline-1__Outlet_Establishment_Year  \\\n",
              "0                                 2009.0   \n",
              "1                                 2009.0   \n",
              "\n",
              "   pipeline-2__Item_Fat_Content_Low Fat  pipeline-2__Item_Fat_Content_Regular  \\\n",
              "0                                   1.0                                   0.0   \n",
              "1                                   0.0                                   1.0   \n",
              "\n",
              "   pipeline-2__Item_Type_Baking Goods  pipeline-2__Item_Type_Breads  \\\n",
              "0                                 0.0                           0.0   \n",
              "1                                 0.0                           0.0   \n",
              "\n",
              "   pipeline-2__Item_Type_Breakfast  pipeline-2__Item_Type_Canned  ...  \\\n",
              "0                              0.0                           0.0  ...   \n",
              "1                              0.0                           0.0  ...   \n",
              "\n",
              "   pipeline-2__Item_Type_Snack Foods  pipeline-2__Item_Type_Soft Drinks  \\\n",
              "0                                0.0                                0.0   \n",
              "1                                1.0                                0.0   \n",
              "\n",
              "   pipeline-2__Item_Type_Starchy Foods  \\\n",
              "0                                  0.0   \n",
              "1                                  0.0   \n",
              "\n",
              "   pipeline-2__Outlet_Location_Type_Tier 1  \\\n",
              "0                                      0.0   \n",
              "1                                      0.0   \n",
              "\n",
              "   pipeline-2__Outlet_Location_Type_Tier 2  \\\n",
              "0                                      0.0   \n",
              "1                                      0.0   \n",
              "\n",
              "   pipeline-2__Outlet_Location_Type_Tier 3  \\\n",
              "0                                      1.0   \n",
              "1                                      1.0   \n",
              "\n",
              "   pipeline-2__Outlet_Type_Grocery Store  \\\n",
              "0                                    0.0   \n",
              "1                                    0.0   \n",
              "\n",
              "   pipeline-2__Outlet_Type_Supermarket Type1  \\\n",
              "0                                        0.0   \n",
              "1                                        0.0   \n",
              "\n",
              "   pipeline-2__Outlet_Type_Supermarket Type2  \\\n",
              "0                                        1.0   \n",
              "1                                        1.0   \n",
              "\n",
              "   pipeline-2__Outlet_Type_Supermarket Type3  \n",
              "0                                        0.0  \n",
              "1                                        0.0  \n",
              "\n",
              "[2 rows x 29 columns]"
            ],
            "text/html": [
              "\n",
              "  <div id=\"df-3640d735-fd1e-4d67-96c9-79bb816f835f\">\n",
              "    <div class=\"colab-df-container\">\n",
              "      <div>\n",
              "<style scoped>\n",
              "    .dataframe tbody tr th:only-of-type {\n",
              "        vertical-align: middle;\n",
              "    }\n",
              "\n",
              "    .dataframe tbody tr th {\n",
              "        vertical-align: top;\n",
              "    }\n",
              "\n",
              "    .dataframe thead th {\n",
              "        text-align: right;\n",
              "    }\n",
              "</style>\n",
              "<table border=\"1\" class=\"dataframe\">\n",
              "  <thead>\n",
              "    <tr style=\"text-align: right;\">\n",
              "      <th></th>\n",
              "      <th>pipeline-1__Item_Weight</th>\n",
              "      <th>pipeline-1__Item_Visibility</th>\n",
              "      <th>pipeline-1__Item_MRP</th>\n",
              "      <th>pipeline-1__Outlet_Establishment_Year</th>\n",
              "      <th>pipeline-2__Item_Fat_Content_Low Fat</th>\n",
              "      <th>pipeline-2__Item_Fat_Content_Regular</th>\n",
              "      <th>pipeline-2__Item_Type_Baking Goods</th>\n",
              "      <th>pipeline-2__Item_Type_Breads</th>\n",
              "      <th>pipeline-2__Item_Type_Breakfast</th>\n",
              "      <th>pipeline-2__Item_Type_Canned</th>\n",
              "      <th>...</th>\n",
              "      <th>pipeline-2__Item_Type_Snack Foods</th>\n",
              "      <th>pipeline-2__Item_Type_Soft Drinks</th>\n",
              "      <th>pipeline-2__Item_Type_Starchy Foods</th>\n",
              "      <th>pipeline-2__Outlet_Location_Type_Tier 1</th>\n",
              "      <th>pipeline-2__Outlet_Location_Type_Tier 2</th>\n",
              "      <th>pipeline-2__Outlet_Location_Type_Tier 3</th>\n",
              "      <th>pipeline-2__Outlet_Type_Grocery Store</th>\n",
              "      <th>pipeline-2__Outlet_Type_Supermarket Type1</th>\n",
              "      <th>pipeline-2__Outlet_Type_Supermarket Type2</th>\n",
              "      <th>pipeline-2__Outlet_Type_Supermarket Type3</th>\n",
              "    </tr>\n",
              "  </thead>\n",
              "  <tbody>\n",
              "    <tr>\n",
              "      <th>0</th>\n",
              "      <td>16.35</td>\n",
              "      <td>0.029565</td>\n",
              "      <td>256.4646</td>\n",
              "      <td>2009.0</td>\n",
              "      <td>1.0</td>\n",
              "      <td>0.0</td>\n",
              "      <td>0.0</td>\n",
              "      <td>0.0</td>\n",
              "      <td>0.0</td>\n",
              "      <td>0.0</td>\n",
              "      <td>...</td>\n",
              "      <td>0.0</td>\n",
              "      <td>0.0</td>\n",
              "      <td>0.0</td>\n",
              "      <td>0.0</td>\n",
              "      <td>0.0</td>\n",
              "      <td>1.0</td>\n",
              "      <td>0.0</td>\n",
              "      <td>0.0</td>\n",
              "      <td>1.0</td>\n",
              "      <td>0.0</td>\n",
              "    </tr>\n",
              "    <tr>\n",
              "      <th>1</th>\n",
              "      <td>15.25</td>\n",
              "      <td>0.000000</td>\n",
              "      <td>179.7660</td>\n",
              "      <td>2009.0</td>\n",
              "      <td>0.0</td>\n",
              "      <td>1.0</td>\n",
              "      <td>0.0</td>\n",
              "      <td>0.0</td>\n",
              "      <td>0.0</td>\n",
              "      <td>0.0</td>\n",
              "      <td>...</td>\n",
              "      <td>1.0</td>\n",
              "      <td>0.0</td>\n",
              "      <td>0.0</td>\n",
              "      <td>0.0</td>\n",
              "      <td>0.0</td>\n",
              "      <td>1.0</td>\n",
              "      <td>0.0</td>\n",
              "      <td>0.0</td>\n",
              "      <td>1.0</td>\n",
              "      <td>0.0</td>\n",
              "    </tr>\n",
              "  </tbody>\n",
              "</table>\n",
              "<p>2 rows × 29 columns</p>\n",
              "</div>\n",
              "      <button class=\"colab-df-convert\" onclick=\"convertToInteractive('df-3640d735-fd1e-4d67-96c9-79bb816f835f')\"\n",
              "              title=\"Convert this dataframe to an interactive table.\"\n",
              "              style=\"display:none;\">\n",
              "        \n",
              "  <svg xmlns=\"http://www.w3.org/2000/svg\" height=\"24px\"viewBox=\"0 0 24 24\"\n",
              "       width=\"24px\">\n",
              "    <path d=\"M0 0h24v24H0V0z\" fill=\"none\"/>\n",
              "    <path d=\"M18.56 5.44l.94 2.06.94-2.06 2.06-.94-2.06-.94-.94-2.06-.94 2.06-2.06.94zm-11 1L8.5 8.5l.94-2.06 2.06-.94-2.06-.94L8.5 2.5l-.94 2.06-2.06.94zm10 10l.94 2.06.94-2.06 2.06-.94-2.06-.94-.94-2.06-.94 2.06-2.06.94z\"/><path d=\"M17.41 7.96l-1.37-1.37c-.4-.4-.92-.59-1.43-.59-.52 0-1.04.2-1.43.59L10.3 9.45l-7.72 7.72c-.78.78-.78 2.05 0 2.83L4 21.41c.39.39.9.59 1.41.59.51 0 1.02-.2 1.41-.59l7.78-7.78 2.81-2.81c.8-.78.8-2.07 0-2.86zM5.41 20L4 18.59l7.72-7.72 1.47 1.35L5.41 20z\"/>\n",
              "  </svg>\n",
              "      </button>\n",
              "      \n",
              "  <style>\n",
              "    .colab-df-container {\n",
              "      display:flex;\n",
              "      flex-wrap:wrap;\n",
              "      gap: 12px;\n",
              "    }\n",
              "\n",
              "    .colab-df-convert {\n",
              "      background-color: #E8F0FE;\n",
              "      border: none;\n",
              "      border-radius: 50%;\n",
              "      cursor: pointer;\n",
              "      display: none;\n",
              "      fill: #1967D2;\n",
              "      height: 32px;\n",
              "      padding: 0 0 0 0;\n",
              "      width: 32px;\n",
              "    }\n",
              "\n",
              "    .colab-df-convert:hover {\n",
              "      background-color: #E2EBFA;\n",
              "      box-shadow: 0px 1px 2px rgba(60, 64, 67, 0.3), 0px 1px 3px 1px rgba(60, 64, 67, 0.15);\n",
              "      fill: #174EA6;\n",
              "    }\n",
              "\n",
              "    [theme=dark] .colab-df-convert {\n",
              "      background-color: #3B4455;\n",
              "      fill: #D2E3FC;\n",
              "    }\n",
              "\n",
              "    [theme=dark] .colab-df-convert:hover {\n",
              "      background-color: #434B5C;\n",
              "      box-shadow: 0px 1px 3px 1px rgba(0, 0, 0, 0.15);\n",
              "      filter: drop-shadow(0px 1px 2px rgba(0, 0, 0, 0.3));\n",
              "      fill: #FFFFFF;\n",
              "    }\n",
              "  </style>\n",
              "\n",
              "      <script>\n",
              "        const buttonEl =\n",
              "          document.querySelector('#df-3640d735-fd1e-4d67-96c9-79bb816f835f button.colab-df-convert');\n",
              "        buttonEl.style.display =\n",
              "          google.colab.kernel.accessAllowed ? 'block' : 'none';\n",
              "\n",
              "        async function convertToInteractive(key) {\n",
              "          const element = document.querySelector('#df-3640d735-fd1e-4d67-96c9-79bb816f835f');\n",
              "          const dataTable =\n",
              "            await google.colab.kernel.invokeFunction('convertToInteractive',\n",
              "                                                     [key], {});\n",
              "          if (!dataTable) return;\n",
              "\n",
              "          const docLinkHtml = 'Like what you see? Visit the ' +\n",
              "            '<a target=\"_blank\" href=https://colab.research.google.com/notebooks/data_table.ipynb>data table notebook</a>'\n",
              "            + ' to learn more about interactive tables.';\n",
              "          element.innerHTML = '';\n",
              "          dataTable['output_type'] = 'display_data';\n",
              "          await google.colab.output.renderOutput(dataTable, element);\n",
              "          const docLink = document.createElement('div');\n",
              "          docLink.innerHTML = docLinkHtml;\n",
              "          element.appendChild(docLink);\n",
              "        }\n",
              "      </script>\n",
              "    </div>\n",
              "  </div>\n",
              "  "
            ]
          },
          "metadata": {},
          "execution_count": 31
        }
      ]
    },
    {
      "cell_type": "code",
      "source": [
        "X_test.head(2)"
      ],
      "metadata": {
        "colab": {
          "base_uri": "https://localhost:8080/",
          "height": 240
        },
        "id": "8uU-xzO9dU2o",
        "outputId": "447919d5-191d-487a-ada7-a609226a6b1a"
      },
      "execution_count": 32,
      "outputs": [
        {
          "output_type": "execute_result",
          "data": {
            "text/plain": [
              "   pipeline-1__Item_Weight  pipeline-1__Item_Visibility  pipeline-1__Item_MRP  \\\n",
              "0                    14.30                     0.026300               79.4302   \n",
              "1                     7.93                     0.071136               42.7086   \n",
              "\n",
              "   pipeline-1__Outlet_Establishment_Year  \\\n",
              "0                                 1987.0   \n",
              "1                                 1997.0   \n",
              "\n",
              "   pipeline-2__Item_Fat_Content_Low Fat  pipeline-2__Item_Fat_Content_Regular  \\\n",
              "0                                   1.0                                   0.0   \n",
              "1                                   1.0                                   0.0   \n",
              "\n",
              "   pipeline-2__Item_Type_Baking Goods  pipeline-2__Item_Type_Breads  \\\n",
              "0                                 0.0                           0.0   \n",
              "1                                 0.0                           0.0   \n",
              "\n",
              "   pipeline-2__Item_Type_Breakfast  pipeline-2__Item_Type_Canned  ...  \\\n",
              "0                              0.0                           0.0  ...   \n",
              "1                              0.0                           0.0  ...   \n",
              "\n",
              "   pipeline-2__Item_Type_Snack Foods  pipeline-2__Item_Type_Soft Drinks  \\\n",
              "0                                0.0                                0.0   \n",
              "1                                0.0                                0.0   \n",
              "\n",
              "   pipeline-2__Item_Type_Starchy Foods  \\\n",
              "0                                  0.0   \n",
              "1                                  0.0   \n",
              "\n",
              "   pipeline-2__Outlet_Location_Type_Tier 1  \\\n",
              "0                                      0.0   \n",
              "1                                      1.0   \n",
              "\n",
              "   pipeline-2__Outlet_Location_Type_Tier 2  \\\n",
              "0                                      0.0   \n",
              "1                                      0.0   \n",
              "\n",
              "   pipeline-2__Outlet_Location_Type_Tier 3  \\\n",
              "0                                      1.0   \n",
              "1                                      0.0   \n",
              "\n",
              "   pipeline-2__Outlet_Type_Grocery Store  \\\n",
              "0                                    0.0   \n",
              "1                                    0.0   \n",
              "\n",
              "   pipeline-2__Outlet_Type_Supermarket Type1  \\\n",
              "0                                        1.0   \n",
              "1                                        1.0   \n",
              "\n",
              "   pipeline-2__Outlet_Type_Supermarket Type2  \\\n",
              "0                                        0.0   \n",
              "1                                        0.0   \n",
              "\n",
              "   pipeline-2__Outlet_Type_Supermarket Type3  \n",
              "0                                        0.0  \n",
              "1                                        0.0  \n",
              "\n",
              "[2 rows x 29 columns]"
            ],
            "text/html": [
              "\n",
              "  <div id=\"df-d2fe63f6-356f-49ac-ac16-7ff70caa8dad\">\n",
              "    <div class=\"colab-df-container\">\n",
              "      <div>\n",
              "<style scoped>\n",
              "    .dataframe tbody tr th:only-of-type {\n",
              "        vertical-align: middle;\n",
              "    }\n",
              "\n",
              "    .dataframe tbody tr th {\n",
              "        vertical-align: top;\n",
              "    }\n",
              "\n",
              "    .dataframe thead th {\n",
              "        text-align: right;\n",
              "    }\n",
              "</style>\n",
              "<table border=\"1\" class=\"dataframe\">\n",
              "  <thead>\n",
              "    <tr style=\"text-align: right;\">\n",
              "      <th></th>\n",
              "      <th>pipeline-1__Item_Weight</th>\n",
              "      <th>pipeline-1__Item_Visibility</th>\n",
              "      <th>pipeline-1__Item_MRP</th>\n",
              "      <th>pipeline-1__Outlet_Establishment_Year</th>\n",
              "      <th>pipeline-2__Item_Fat_Content_Low Fat</th>\n",
              "      <th>pipeline-2__Item_Fat_Content_Regular</th>\n",
              "      <th>pipeline-2__Item_Type_Baking Goods</th>\n",
              "      <th>pipeline-2__Item_Type_Breads</th>\n",
              "      <th>pipeline-2__Item_Type_Breakfast</th>\n",
              "      <th>pipeline-2__Item_Type_Canned</th>\n",
              "      <th>...</th>\n",
              "      <th>pipeline-2__Item_Type_Snack Foods</th>\n",
              "      <th>pipeline-2__Item_Type_Soft Drinks</th>\n",
              "      <th>pipeline-2__Item_Type_Starchy Foods</th>\n",
              "      <th>pipeline-2__Outlet_Location_Type_Tier 1</th>\n",
              "      <th>pipeline-2__Outlet_Location_Type_Tier 2</th>\n",
              "      <th>pipeline-2__Outlet_Location_Type_Tier 3</th>\n",
              "      <th>pipeline-2__Outlet_Type_Grocery Store</th>\n",
              "      <th>pipeline-2__Outlet_Type_Supermarket Type1</th>\n",
              "      <th>pipeline-2__Outlet_Type_Supermarket Type2</th>\n",
              "      <th>pipeline-2__Outlet_Type_Supermarket Type3</th>\n",
              "    </tr>\n",
              "  </thead>\n",
              "  <tbody>\n",
              "    <tr>\n",
              "      <th>0</th>\n",
              "      <td>14.30</td>\n",
              "      <td>0.026300</td>\n",
              "      <td>79.4302</td>\n",
              "      <td>1987.0</td>\n",
              "      <td>1.0</td>\n",
              "      <td>0.0</td>\n",
              "      <td>0.0</td>\n",
              "      <td>0.0</td>\n",
              "      <td>0.0</td>\n",
              "      <td>0.0</td>\n",
              "      <td>...</td>\n",
              "      <td>0.0</td>\n",
              "      <td>0.0</td>\n",
              "      <td>0.0</td>\n",
              "      <td>0.0</td>\n",
              "      <td>0.0</td>\n",
              "      <td>1.0</td>\n",
              "      <td>0.0</td>\n",
              "      <td>1.0</td>\n",
              "      <td>0.0</td>\n",
              "      <td>0.0</td>\n",
              "    </tr>\n",
              "    <tr>\n",
              "      <th>1</th>\n",
              "      <td>7.93</td>\n",
              "      <td>0.071136</td>\n",
              "      <td>42.7086</td>\n",
              "      <td>1997.0</td>\n",
              "      <td>1.0</td>\n",
              "      <td>0.0</td>\n",
              "      <td>0.0</td>\n",
              "      <td>0.0</td>\n",
              "      <td>0.0</td>\n",
              "      <td>0.0</td>\n",
              "      <td>...</td>\n",
              "      <td>0.0</td>\n",
              "      <td>0.0</td>\n",
              "      <td>0.0</td>\n",
              "      <td>1.0</td>\n",
              "      <td>0.0</td>\n",
              "      <td>0.0</td>\n",
              "      <td>0.0</td>\n",
              "      <td>1.0</td>\n",
              "      <td>0.0</td>\n",
              "      <td>0.0</td>\n",
              "    </tr>\n",
              "  </tbody>\n",
              "</table>\n",
              "<p>2 rows × 29 columns</p>\n",
              "</div>\n",
              "      <button class=\"colab-df-convert\" onclick=\"convertToInteractive('df-d2fe63f6-356f-49ac-ac16-7ff70caa8dad')\"\n",
              "              title=\"Convert this dataframe to an interactive table.\"\n",
              "              style=\"display:none;\">\n",
              "        \n",
              "  <svg xmlns=\"http://www.w3.org/2000/svg\" height=\"24px\"viewBox=\"0 0 24 24\"\n",
              "       width=\"24px\">\n",
              "    <path d=\"M0 0h24v24H0V0z\" fill=\"none\"/>\n",
              "    <path d=\"M18.56 5.44l.94 2.06.94-2.06 2.06-.94-2.06-.94-.94-2.06-.94 2.06-2.06.94zm-11 1L8.5 8.5l.94-2.06 2.06-.94-2.06-.94L8.5 2.5l-.94 2.06-2.06.94zm10 10l.94 2.06.94-2.06 2.06-.94-2.06-.94-.94-2.06-.94 2.06-2.06.94z\"/><path d=\"M17.41 7.96l-1.37-1.37c-.4-.4-.92-.59-1.43-.59-.52 0-1.04.2-1.43.59L10.3 9.45l-7.72 7.72c-.78.78-.78 2.05 0 2.83L4 21.41c.39.39.9.59 1.41.59.51 0 1.02-.2 1.41-.59l7.78-7.78 2.81-2.81c.8-.78.8-2.07 0-2.86zM5.41 20L4 18.59l7.72-7.72 1.47 1.35L5.41 20z\"/>\n",
              "  </svg>\n",
              "      </button>\n",
              "      \n",
              "  <style>\n",
              "    .colab-df-container {\n",
              "      display:flex;\n",
              "      flex-wrap:wrap;\n",
              "      gap: 12px;\n",
              "    }\n",
              "\n",
              "    .colab-df-convert {\n",
              "      background-color: #E8F0FE;\n",
              "      border: none;\n",
              "      border-radius: 50%;\n",
              "      cursor: pointer;\n",
              "      display: none;\n",
              "      fill: #1967D2;\n",
              "      height: 32px;\n",
              "      padding: 0 0 0 0;\n",
              "      width: 32px;\n",
              "    }\n",
              "\n",
              "    .colab-df-convert:hover {\n",
              "      background-color: #E2EBFA;\n",
              "      box-shadow: 0px 1px 2px rgba(60, 64, 67, 0.3), 0px 1px 3px 1px rgba(60, 64, 67, 0.15);\n",
              "      fill: #174EA6;\n",
              "    }\n",
              "\n",
              "    [theme=dark] .colab-df-convert {\n",
              "      background-color: #3B4455;\n",
              "      fill: #D2E3FC;\n",
              "    }\n",
              "\n",
              "    [theme=dark] .colab-df-convert:hover {\n",
              "      background-color: #434B5C;\n",
              "      box-shadow: 0px 1px 3px 1px rgba(0, 0, 0, 0.15);\n",
              "      filter: drop-shadow(0px 1px 2px rgba(0, 0, 0, 0.3));\n",
              "      fill: #FFFFFF;\n",
              "    }\n",
              "  </style>\n",
              "\n",
              "      <script>\n",
              "        const buttonEl =\n",
              "          document.querySelector('#df-d2fe63f6-356f-49ac-ac16-7ff70caa8dad button.colab-df-convert');\n",
              "        buttonEl.style.display =\n",
              "          google.colab.kernel.accessAllowed ? 'block' : 'none';\n",
              "\n",
              "        async function convertToInteractive(key) {\n",
              "          const element = document.querySelector('#df-d2fe63f6-356f-49ac-ac16-7ff70caa8dad');\n",
              "          const dataTable =\n",
              "            await google.colab.kernel.invokeFunction('convertToInteractive',\n",
              "                                                     [key], {});\n",
              "          if (!dataTable) return;\n",
              "\n",
              "          const docLinkHtml = 'Like what you see? Visit the ' +\n",
              "            '<a target=\"_blank\" href=https://colab.research.google.com/notebooks/data_table.ipynb>data table notebook</a>'\n",
              "            + ' to learn more about interactive tables.';\n",
              "          element.innerHTML = '';\n",
              "          dataTable['output_type'] = 'display_data';\n",
              "          await google.colab.output.renderOutput(dataTable, element);\n",
              "          const docLink = document.createElement('div');\n",
              "          docLink.innerHTML = docLinkHtml;\n",
              "          element.appendChild(docLink);\n",
              "        }\n",
              "      </script>\n",
              "    </div>\n",
              "  </div>\n",
              "  "
            ]
          },
          "metadata": {},
          "execution_count": 32
        }
      ]
    },
    {
      "cell_type": "code",
      "source": [
        "# Removemos pipeline-1__ y pipeline-2__ de los nombres de las columnas\n",
        "X_train.columns = X_train.columns.str.replace('pipeline-1__', '')\n",
        "X_train.columns = X_train.columns.str.replace('pipeline-2__', '')\n",
        "X_test.columns = X_test.columns.str.replace('pipeline-1__', '')\n",
        "X_test.columns = X_test.columns.str.replace('pipeline-2__', '')"
      ],
      "metadata": {
        "id": "AwZd1BEhP_WR"
      },
      "execution_count": 33,
      "outputs": []
    },
    {
      "cell_type": "code",
      "source": [
        "X_train.info()"
      ],
      "metadata": {
        "colab": {
          "base_uri": "https://localhost:8080/"
        },
        "id": "v2vw4uJrQhch",
        "outputId": "cc71ff30-3456-40cc-96a4-4c93bac6389d"
      },
      "execution_count": 35,
      "outputs": [
        {
          "output_type": "stream",
          "name": "stdout",
          "text": [
            "<class 'pandas.core.frame.DataFrame'>\n",
            "RangeIndex: 6392 entries, 0 to 6391\n",
            "Data columns (total 29 columns):\n",
            " #   Column                           Non-Null Count  Dtype  \n",
            "---  ------                           --------------  -----  \n",
            " 0   Item_Weight                      6392 non-null   float64\n",
            " 1   Item_Visibility                  6392 non-null   float64\n",
            " 2   Item_MRP                         6392 non-null   float64\n",
            " 3   Outlet_Establishment_Year        6392 non-null   float64\n",
            " 4   Item_Fat_Content_Low Fat         6392 non-null   float64\n",
            " 5   Item_Fat_Content_Regular         6392 non-null   float64\n",
            " 6   Item_Type_Baking Goods           6392 non-null   float64\n",
            " 7   Item_Type_Breads                 6392 non-null   float64\n",
            " 8   Item_Type_Breakfast              6392 non-null   float64\n",
            " 9   Item_Type_Canned                 6392 non-null   float64\n",
            " 10  Item_Type_Dairy                  6392 non-null   float64\n",
            " 11  Item_Type_Frozen Foods           6392 non-null   float64\n",
            " 12  Item_Type_Fruits and Vegetables  6392 non-null   float64\n",
            " 13  Item_Type_Hard Drinks            6392 non-null   float64\n",
            " 14  Item_Type_Health and Hygiene     6392 non-null   float64\n",
            " 15  Item_Type_Household              6392 non-null   float64\n",
            " 16  Item_Type_Meat                   6392 non-null   float64\n",
            " 17  Item_Type_Others                 6392 non-null   float64\n",
            " 18  Item_Type_Seafood                6392 non-null   float64\n",
            " 19  Item_Type_Snack Foods            6392 non-null   float64\n",
            " 20  Item_Type_Soft Drinks            6392 non-null   float64\n",
            " 21  Item_Type_Starchy Foods          6392 non-null   float64\n",
            " 22  Outlet_Location_Type_Tier 1      6392 non-null   float64\n",
            " 23  Outlet_Location_Type_Tier 2      6392 non-null   float64\n",
            " 24  Outlet_Location_Type_Tier 3      6392 non-null   float64\n",
            " 25  Outlet_Type_Grocery Store        6392 non-null   float64\n",
            " 26  Outlet_Type_Supermarket Type1    6392 non-null   float64\n",
            " 27  Outlet_Type_Supermarket Type2    6392 non-null   float64\n",
            " 28  Outlet_Type_Supermarket Type3    6392 non-null   float64\n",
            "dtypes: float64(29)\n",
            "memory usage: 1.4 MB\n"
          ]
        }
      ]
    },
    {
      "cell_type": "markdown",
      "source": [
        "## Predicciones con Machine Learning"
      ],
      "metadata": {
        "id": "hHJ8je-BQrN1"
      }
    },
    {
      "cell_type": "markdown",
      "source": [
        "### Regresión Lineal"
      ],
      "metadata": {
        "id": "v5NlLqr8RnJa"
      }
    },
    {
      "cell_type": "code",
      "source": [
        "# Instanciar el modelo de regresión lineal y ajustarlo a los datos de prueba\n",
        "reg = LinearRegression()\n",
        "reg.fit(X_train, y_train)"
      ],
      "metadata": {
        "colab": {
          "base_uri": "https://localhost:8080/"
        },
        "id": "JL9PrdEgQjEo",
        "outputId": "45e0d1dd-d7e1-4d34-e651-b23a74269e12"
      },
      "execution_count": 41,
      "outputs": [
        {
          "output_type": "execute_result",
          "data": {
            "text/plain": [
              "LinearRegression()"
            ]
          },
          "metadata": {},
          "execution_count": 41
        }
      ]
    },
    {
      "cell_type": "code",
      "source": [
        "# Predicciones del conjunto de entrenamiento\n",
        "train_preds = reg.predict(X_train)\n",
        "\n",
        "# Predicciones del conjunto de prueba\n",
        "test_preds = reg.predict(X_test)"
      ],
      "metadata": {
        "id": "W_ZdiRRiRAHZ"
      },
      "execution_count": 42,
      "outputs": []
    },
    {
      "cell_type": "code",
      "source": [
        "# Evaluar el modelo con R^2\n",
        "r2_train = r2_score(y_train, train_preds)\n",
        "r2_test = r2_score(y_test, test_preds)\n",
        "print(\"R^2 en conjunto de entrenamiento: \", r2_train)\n",
        "print(\"R^2 en conjunto de prueba: \", r2_test)"
      ],
      "metadata": {
        "colab": {
          "base_uri": "https://localhost:8080/"
        },
        "id": "BQcAcEFeSmvB",
        "outputId": "2e63245d-5910-4530-e64c-014610a9f989"
      },
      "execution_count": 43,
      "outputs": [
        {
          "output_type": "stream",
          "name": "stdout",
          "text": [
            "R^2 en conjunto de entrenamiento:  0.5605554544355624\n",
            "R^2 en conjunto de prueba:  0.5658838444256\n"
          ]
        }
      ]
    },
    {
      "cell_type": "code",
      "source": [
        "# Evaluar el modelo con RECM\n",
        "recm_train = np.sqrt(mean_squared_error(y_train, train_preds))\n",
        "recm_test = np.sqrt(mean_squared_error(y_test, test_preds))\n",
        "print(\"RECM en conjunto de entrenamiento: \", recm_train)\n",
        "print(\"RECM en conjunto de prueba: \", recm_test)"
      ],
      "metadata": {
        "colab": {
          "base_uri": "https://localhost:8080/"
        },
        "id": "FO-_0RNQSvL9",
        "outputId": "f03100f2-51dc-4a46-8d41-8bec31224641"
      },
      "execution_count": 44,
      "outputs": [
        {
          "output_type": "stream",
          "name": "stdout",
          "text": [
            "RECM en conjunto de entrenamiento:  1140.4019761442698\n",
            "RECM en conjunto de prueba:  1094.4024001708467\n"
          ]
        }
      ]
    },
    {
      "cell_type": "markdown",
      "source": [
        "### Árbol de regresión"
      ],
      "metadata": {
        "id": "Yt5P_S9-VCCg"
      }
    },
    {
      "cell_type": "code",
      "source": [
        "# Instanciar árbol de regresión con los valores por defecto\n",
        "dec_tree = DecisionTreeRegressor(random_state=42)"
      ],
      "metadata": {
        "id": "TRDAq8gRTWM-"
      },
      "execution_count": 45,
      "outputs": []
    },
    {
      "cell_type": "code",
      "source": [
        "# Ajustar el modelo a los datos de entrenamiento\n",
        "dec_tree.fit(X_train, y_train)"
      ],
      "metadata": {
        "colab": {
          "base_uri": "https://localhost:8080/"
        },
        "id": "m-kYWnbKVJj7",
        "outputId": "71b31722-5ff4-4b18-be64-71fcc3f82eaf"
      },
      "execution_count": 46,
      "outputs": [
        {
          "output_type": "execute_result",
          "data": {
            "text/plain": [
              "DecisionTreeRegressor(random_state=42)"
            ]
          },
          "metadata": {},
          "execution_count": 46
        }
      ]
    },
    {
      "cell_type": "code",
      "source": [
        "# Evaluar el modelo con R^2\n",
        "train_score = dec_tree.score(X_train, y_train)\n",
        "test_score = dec_tree.score(X_test, y_test)\n",
        "print(\"R^2 en conjunto de entrenamiento: \", train_score)\n",
        "print(\"R^2 en conjunto de prueba: \", test_score)"
      ],
      "metadata": {
        "colab": {
          "base_uri": "https://localhost:8080/"
        },
        "id": "_oO1b3E3VLtj",
        "outputId": "8b03e288-5520-48d9-c7c3-fd0e87c2956a"
      },
      "execution_count": 53,
      "outputs": [
        {
          "output_type": "stream",
          "name": "stdout",
          "text": [
            "R^2 en conjunto de entrenamiento:  0.9125253477205632\n",
            "R^2 en conjunto de prueba:  0.25248464012026706\n"
          ]
        }
      ]
    },
    {
      "cell_type": "code",
      "source": [
        "# Ajustar la profundidad máxima del modelo\n",
        "# Obtener la profuncidad actual\n",
        "dec_tree.get_depth()"
      ],
      "metadata": {
        "colab": {
          "base_uri": "https://localhost:8080/"
        },
        "id": "-6pDWba_WLr_",
        "outputId": "4bba07ec-7700-4d6b-9277-eae7e414bfaf"
      },
      "execution_count": 50,
      "outputs": [
        {
          "output_type": "execute_result",
          "data": {
            "text/plain": [
              "40"
            ]
          },
          "metadata": {},
          "execution_count": 50
        }
      ]
    },
    {
      "cell_type": "code",
      "source": [
        "# Lista de valores a probar para max_depth:\n",
        "max_depth_range = list(range(2, 40))\n",
        "\n",
        "# Lista para almacenar la puntuación para cada valor de max_depth:\n",
        "r2 = []\n",
        "for depth in max_depth_range:\n",
        "    dec_tree = DecisionTreeRegressor(max_depth = depth, random_state = 42)\n",
        "    dec_tree.fit(X_train, y_train)\n",
        "    score = dec_tree.score(X_test, y_test)\n",
        "    r2.append(score)"
      ],
      "metadata": {
        "id": "_RJKhvVZWXv8"
      },
      "execution_count": 57,
      "outputs": []
    },
    {
      "cell_type": "code",
      "source": [
        "# Visualizar qué max_depth lleva a una puntuación R2 más alta\n",
        "import matplotlib.pyplot as plt\n",
        "plt.plot(max_depth_range, r2)\n",
        "plt.grid()\n",
        "plt.xlabel('max_depth')\n",
        "plt.ylabel('R2');"
      ],
      "metadata": {
        "colab": {
          "base_uri": "https://localhost:8080/",
          "height": 280
        },
        "id": "W3GB9ILQWdFd",
        "outputId": "0271910c-6cb4-4c90-fbb0-5327a6dbb9d9"
      },
      "execution_count": 59,
      "outputs": [
        {
          "output_type": "display_data",
          "data": {
            "text/plain": [
              "<Figure size 432x288 with 1 Axes>"
            ],
            "image/png": "[encoded data removed]"
          },
          "metadata": {
            "needs_background": "light"
          }
        }
      ]
    },
    {
      "cell_type": "code",
      "source": [
        "# Ejecutar el modelo con un max_depth=5\n",
        "dec_tree_5 = DecisionTreeRegressor(max_depth=5, random_state=42)\n",
        "dec_tree_5.fit(X_train, y_train)\n",
        "train_5_score = dec_tree_5.score(X_train, y_train)\n",
        "test_5_score = dec_tree_5.score(X_test, y_test)\n",
        "print(\"R^2 en conjunto de entrenamiento: \", train_5_score)\n",
        "print(\"R^2 en conjunto de prueba: \", test_5_score)"
      ],
      "metadata": {
        "colab": {
          "base_uri": "https://localhost:8080/"
        },
        "id": "Me-iVE-PWl6v",
        "outputId": "ea44e590-ca63-4a13-dd90-4f9ad7db35a4"
      },
      "execution_count": 60,
      "outputs": [
        {
          "output_type": "stream",
          "name": "stdout",
          "text": [
            "R^2 en conjunto de entrenamiento:  0.6039092654846363\n",
            "R^2 en conjunto de prueba:  0.5949542729674069\n"
          ]
        }
      ]
    },
    {
      "cell_type": "markdown",
      "source": [
        "El valor de max_depth=5 tiene una predicción superior, por lo que será nuestro valor escogido.\n"
      ],
      "metadata": {
        "id": "YQQ51ojIXmY2"
      }
    },
    {
      "cell_type": "code",
      "source": [
        "# Evaluar el modelo con RECM con un max_depth=5\n",
        "train_preds_tree = dec_tree_5.predict(X_train)\n",
        "test_preds_tree = dec_tree_5.predict(X_test)\n",
        "recm_train_tree = np.sqrt(mean_squared_error(y_train, train_preds_tree))\n",
        "recm_test_tree = np.sqrt(mean_squared_error(y_test, test_preds_tree))\n",
        "print(\"RECM en conjunto de entrenamiento: \", recm_train_tree)\n",
        "print(\"RECM en conjunto de prueba: \", recm_test_tree)"
      ],
      "metadata": {
        "colab": {
          "base_uri": "https://localhost:8080/"
        },
        "id": "4O-zm_H6VV3i",
        "outputId": "b91939a3-2b20-4848-915f-0dd291cf97aa"
      },
      "execution_count": 61,
      "outputs": [
        {
          "output_type": "stream",
          "name": "stdout",
          "text": [
            "RECM en conjunto de entrenamiento:  1082.6878514934986\n",
            "RECM en conjunto de prueba:  1057.1243831290897\n"
          ]
        }
      ]
    },
    {
      "cell_type": "markdown",
      "source": [
        "**Modelo recomendado:** recomiendo utilizar el modelo de árboles de regresión, debido a que, luego de modificar un poco sus valores por defecto los valores de las métricas de predicción son mejores en los datos de prueba, además la diferencia del RECM entre los datos de entrenamiento y de prueba es menor."
      ],
      "metadata": {
        "id": "gqztBKl9diFu"
      }
    },
    {
      "cell_type": "code",
      "source": [
        "# Determinar la importancia de cada una de las características del modelo utilizando la propiedad feature_importances_\n",
        "# Fuente: https://scikit-learn.org/stable/modules/generated/sklearn.tree.DecisionTreeRegressor.html \n",
        "importancia = dec_tree_5.feature_importances_\n",
        "for caracteristica,valor in enumerate(importancia):\n",
        "\tprint(f'Caracteristica {caracteristica}, Importancia: {valor:.2f}')"
      ],
      "metadata": {
        "colab": {
          "base_uri": "https://localhost:8080/"
        },
        "id": "7FhKj8ozV0Va",
        "outputId": "0d4b3519-fc05-4110-d578-b4ca864c064b"
      },
      "execution_count": 70,
      "outputs": [
        {
          "output_type": "stream",
          "name": "stdout",
          "text": [
            "Caracteristica 0, Importancia: 0.00\n",
            "Caracteristica 1, Importancia: 0.00\n",
            "Caracteristica 2, Importancia: 0.55\n",
            "Caracteristica 3, Importancia: 0.03\n",
            "Caracteristica 4, Importancia: 0.00\n",
            "Caracteristica 5, Importancia: 0.00\n",
            "Caracteristica 6, Importancia: 0.00\n",
            "Caracteristica 7, Importancia: 0.00\n",
            "Caracteristica 8, Importancia: 0.00\n",
            "Caracteristica 9, Importancia: 0.00\n",
            "Caracteristica 10, Importancia: 0.00\n",
            "Caracteristica 11, Importancia: 0.00\n",
            "Caracteristica 12, Importancia: 0.00\n",
            "Caracteristica 13, Importancia: 0.00\n",
            "Caracteristica 14, Importancia: 0.00\n",
            "Caracteristica 15, Importancia: 0.00\n",
            "Caracteristica 16, Importancia: 0.00\n",
            "Caracteristica 17, Importancia: 0.00\n",
            "Caracteristica 18, Importancia: 0.00\n",
            "Caracteristica 19, Importancia: 0.00\n",
            "Caracteristica 20, Importancia: 0.00\n",
            "Caracteristica 21, Importancia: 0.00\n",
            "Caracteristica 22, Importancia: 0.00\n",
            "Caracteristica 23, Importancia: 0.00\n",
            "Caracteristica 24, Importancia: 0.00\n",
            "Caracteristica 25, Importancia: 0.32\n",
            "Caracteristica 26, Importancia: 0.00\n",
            "Caracteristica 27, Importancia: 0.00\n",
            "Caracteristica 28, Importancia: 0.10\n"
          ]
        }
      ]
    },
    {
      "cell_type": "code",
      "source": [
        "plt.figure(figsize=(10,4))\n",
        "plt.bar([x for x in range(len(importancia))], importancia)\n",
        "plt.grid()\n",
        "plt.xlim(0, 29)\n",
        "plt.xticks(np.arange(0, 29, step=1))\n",
        "plt.title('Importancia de las características', fontsize=20)\n",
        "plt.ylabel('Importancia', fontsize=14)\n",
        "plt.xlabel('Características', fontsize=14)\n",
        "plt.savefig('Importancia.png', dpi=300)\n",
        "plt.show()"
      ],
      "metadata": {
        "colab": {
          "base_uri": "https://localhost:8080/",
          "height": 305
        },
        "id": "48Z-foScek5D",
        "outputId": "1c75cbb7-c230-44a5-fe45-1ba6e1fc7a05"
      },
      "execution_count": 79,
      "outputs": [
        {
          "output_type": "display_data",
          "data": {
            "text/plain": [
              "<Figure size 720x288 with 1 Axes>"
            ],
            "image/png": "[encoded data removed]"
          },
          "metadata": {
            "needs_background": "light"
          }
        }
      ]
    },
    {
      "cell_type": "code",
      "source": [
        "X_train.info()"
      ],
      "metadata": {
        "colab": {
          "base_uri": "https://localhost:8080/"
        },
        "id": "yjXMA1jEfK4P",
        "outputId": "5dde8361-2944-4875-9aed-2cb4b8b70770"
      },
      "execution_count": 77,
      "outputs": [
        {
          "output_type": "stream",
          "name": "stdout",
          "text": [
            "<class 'pandas.core.frame.DataFrame'>\n",
            "RangeIndex: 6392 entries, 0 to 6391\n",
            "Data columns (total 29 columns):\n",
            " #   Column                           Non-Null Count  Dtype  \n",
            "---  ------                           --------------  -----  \n",
            " 0   Item_Weight                      6392 non-null   float64\n",
            " 1   Item_Visibility                  6392 non-null   float64\n",
            " 2   Item_MRP                         6392 non-null   float64\n",
            " 3   Outlet_Establishment_Year        6392 non-null   float64\n",
            " 4   Item_Fat_Content_Low Fat         6392 non-null   float64\n",
            " 5   Item_Fat_Content_Regular         6392 non-null   float64\n",
            " 6   Item_Type_Baking Goods           6392 non-null   float64\n",
            " 7   Item_Type_Breads                 6392 non-null   float64\n",
            " 8   Item_Type_Breakfast              6392 non-null   float64\n",
            " 9   Item_Type_Canned                 6392 non-null   float64\n",
            " 10  Item_Type_Dairy                  6392 non-null   float64\n",
            " 11  Item_Type_Frozen Foods           6392 non-null   float64\n",
            " 12  Item_Type_Fruits and Vegetables  6392 non-null   float64\n",
            " 13  Item_Type_Hard Drinks            6392 non-null   float64\n",
            " 14  Item_Type_Health and Hygiene     6392 non-null   float64\n",
            " 15  Item_Type_Household              6392 non-null   float64\n",
            " 16  Item_Type_Meat                   6392 non-null   float64\n",
            " 17  Item_Type_Others                 6392 non-null   float64\n",
            " 18  Item_Type_Seafood                6392 non-null   float64\n",
            " 19  Item_Type_Snack Foods            6392 non-null   float64\n",
            " 20  Item_Type_Soft Drinks            6392 non-null   float64\n",
            " 21  Item_Type_Starchy Foods          6392 non-null   float64\n",
            " 22  Outlet_Location_Type_Tier 1      6392 non-null   float64\n",
            " 23  Outlet_Location_Type_Tier 2      6392 non-null   float64\n",
            " 24  Outlet_Location_Type_Tier 3      6392 non-null   float64\n",
            " 25  Outlet_Type_Grocery Store        6392 non-null   float64\n",
            " 26  Outlet_Type_Supermarket Type1    6392 non-null   float64\n",
            " 27  Outlet_Type_Supermarket Type2    6392 non-null   float64\n",
            " 28  Outlet_Type_Supermarket Type3    6392 non-null   float64\n",
            "dtypes: float64(29)\n",
            "memory usage: 1.4 MB\n"
          ]
        }
      ]
    },
    {
      "cell_type": "markdown",
      "source": [
        "**Análisis:** Podemos notar que las características 2, 25 y 28, que corresponden al Precio máximo de venta al público (Item_MRP), Tienda de comestibles (Outlet_Type_Grocery Store) y Supermercado tipo 3 (Outlet_Type_Supermarket Type3), son las que tienen una mayor importancia al momento de predecir el valor de Ventas del producto (Item_Outlet_Sales), es probable que las \"Tiendas de comestibles\" tengan una mayor importancia debido a que las ventas son menores, sin embargo, en este gráfico no podemos apreciar eso."
      ],
      "metadata": {
        "id": "kzj76xu5E7xl"
      }
    },
    {
      "cell_type": "code",
      "source": [],
      "metadata": {
        "id": "eIDdyxs0tDY_"
      },
      "execution_count": null,
      "outputs": []
    }
  ]
}